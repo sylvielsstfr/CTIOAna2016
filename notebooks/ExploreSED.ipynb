{
 "cells": [
  {
   "cell_type": "markdown",
   "metadata": {},
   "source": [
    "## Explore fits spectra from Calspec\n",
    "============================================\n",
    "\n",
    "- author : Sylvie Dagoret-Campagne\n",
    "- creation date November 16th 2016\n",
    "\n",
    "The purpose is to view the spectrum of the stars measured in CTIO \n",
    "\n",
    "ftp://ftp.stsci.edu/cdbs/current_calspec/\n"
   ]
  },
  {
   "cell_type": "code",
   "execution_count": 1,
   "metadata": {
    "collapsed": false
   },
   "outputs": [],
   "source": [
    "\n",
    "%matplotlib inline\n",
    "import matplotlib.pyplot as plt\n",
    "import numpy as np\n",
    "\n",
    "from astropy.modeling import models\n",
    "from astropy import units as u\n",
    "from astropy import nddata\n",
    "from astropy.io import fits\n",
    "import re\n",
    "import os"
   ]
  },
  {
   "cell_type": "code",
   "execution_count": 2,
   "metadata": {
    "collapsed": true
   },
   "outputs": [],
   "source": [
    "from astropy.io import fits"
   ]
  },
  {
   "cell_type": "code",
   "execution_count": 3,
   "metadata": {
    "collapsed": true
   },
   "outputs": [],
   "source": [
    "import os"
   ]
  },
  {
   "cell_type": "code",
   "execution_count": 20,
   "metadata": {
    "collapsed": true
   },
   "outputs": [],
   "source": [
    "# to enlarge the sizes\n",
    "params = {'legend.fontsize': 'x-large',\n",
    "          'figure.figsize': (15, 8),\n",
    "         'axes.labelsize': 'x-large',\n",
    "         'axes.titlesize':'x-large',\n",
    "         'xtick.labelsize':'x-large',\n",
    "         'ytick.labelsize':'x-large'}\n",
    "plt.rcParams.update(params)"
   ]
  },
  {
   "cell_type": "code",
   "execution_count": 4,
   "metadata": {
    "collapsed": true
   },
   "outputs": [],
   "source": [
    "path='/Users/dagoret-campagnesylvie/MacOsX/LSST/MyWork/GitHub/CTIOData2016/SEDCalspec_HD205905'"
   ]
  },
  {
   "cell_type": "code",
   "execution_count": 5,
   "metadata": {
    "collapsed": true
   },
   "outputs": [],
   "source": [
    "basefilename='hd205905_stis_003.fits'"
   ]
  },
  {
   "cell_type": "code",
   "execution_count": 6,
   "metadata": {
    "collapsed": true
   },
   "outputs": [],
   "source": [
    "file=os.path.join(path,basefilename)"
   ]
  },
  {
   "cell_type": "code",
   "execution_count": 8,
   "metadata": {
    "collapsed": false
   },
   "outputs": [],
   "source": []
  },
  {
   "cell_type": "code",
   "execution_count": 7,
   "metadata": {
    "collapsed": true
   },
   "outputs": [],
   "source": [
    "hdulist=fits.open(file)"
   ]
  },
  {
   "cell_type": "code",
   "execution_count": 8,
   "metadata": {
    "collapsed": false
   },
   "outputs": [
    {
     "name": "stdout",
     "output_type": "stream",
     "text": [
      "Filename: /Users/dagoret-campagnesylvie/MacOsX/LSST/MyWork/GitHub/CTIOData2016/SEDCalspec_HD205905/hd205905_stis_003.fits\n",
      "No.    Name         Type      Cards   Dimensions   Format\n",
      "0    PRIMARY     PrimaryHDU      71   ()              \n",
      "1    SCI         BinTableHDU     39   3739R x 7C   [1D, 1E, 1E, 1E, 1E, 1I, 1E]   \n"
     ]
    }
   ],
   "source": [
    "hdulist.info()"
   ]
  },
  {
   "cell_type": "markdown",
   "metadata": {},
   "source": [
    "## Primary extension"
   ]
  },
  {
   "cell_type": "code",
   "execution_count": 9,
   "metadata": {
    "collapsed": false
   },
   "outputs": [
    {
     "data": {
      "text/plain": [
       "SIMPLE  =                    T / Fits standard                                  \n",
       "BITPIX  =                   16 / Bits per pixel                                 \n",
       "NAXIS   =                    0 / Number of axes                                 \n",
       "EXTEND  =                    T / File may contain extensions                    \n",
       "ORIGIN  = 'NOAO-IRAF FITS Image Kernel July 2003' / FITS file originator        \n",
       "DATE    = '2015-01-05T21:03:03' / Date FITS file was generated                  \n",
       "IRAF-TLM= '2015-01-05T21:03:07' / Time of last modification                     \n",
       "TARGETID= 'HD205905'           /                                                \n",
       "DBTABLE = 'CRSPECTRUM'         /                                                \n",
       "MAPKEY  = 'CALSPEC '           /                                                \n",
       "AIRMASS =              0.00000 /Mean airmass of the observation                 \n",
       "DESCRIP = 'Standard star flux with a new STIS calibration-------' /             \n",
       "SOURCE  = 'Flux scale of Bohlin, et al. 2014, PASP,  126, 711' /                \n",
       "SOURCE2 = 'Bohlin 2010, AJ, 139, 1515' /                                        \n",
       "USEAFTER= 'Jan 01 2000 00:00:00' /                                              \n",
       "COMMENT = 'HST Flux scale is based on Rauch WD NLTE MODELS' /                   \n",
       "PEDIGREE= 'INFLIGHT 18/05/1997 31/12/2014' /                                    \n",
       "HISTORY FILE WRITTEN BY stismrg.PRO ON 23-Dec-2014 12:22:18.00                  \n",
       "HISTORY FILE WRITTEN BY STISREDUCE.PRO ON 23-Dec-2014 12:22:17.00               \n",
       "HISTORY coadd lst for G230LB:                                                   \n",
       "HISTORY  obnl11020                                                              \n",
       "HISTORY EPOCH: 2011.135:00:41:55-2011.135:00:41:55                              \n",
       "HISTORY gwidth for G230LB flux cal=7                                            \n",
       "HISTORY SYS-ERROR is the broadband 1% INTERNAL repeatability of STIS fluxes.    \n",
       "HISTORY IN ADDITION, THERE IS A SYSTEMATIC UNCERTAINTY IN THE ABS CALIB OF ~2-4%\n",
       "HISTORY     Bohlin (2000,AJ,120,437). BOTH THE STAT-ERR AND SYS-ERR ARE 1-SIGMA.\n",
       "HISTORY G230LB Net & Flux corr. for time & CTE loss (STIS ISRs 04-04 & 06-03).  \n",
       "HISTORY coadd lst for G430L:                                                    \n",
       "HISTORY  obnl11010                                                              \n",
       "HISTORY EPOCH: 2011.135:00:24:49-2011.135:00:24:49                              \n",
       "HISTORY gwidth for G430L flux cal=7                                             \n",
       "HISTORY G430L Net and Flux corr. for time & CTE loss (STIS ISRs 04-04 & 06-03). \n",
       "HISTORY MERGE POINT = 3065.0                                                    \n",
       "HISTORY coadd lst for G750L:                                                    \n",
       "HISTORY  obnl11030                                                              \n",
       "HISTORY EPOCH: 2011.135:00:59:16-2011.135:00:59:16                              \n",
       "HISTORY gwidth for G750L flux cal=11                                            \n",
       "HISTORY G750L Net and Flux corr. for time & CTE loss (STIS ISRs 04-04 & 06-03). \n",
       "HISTORY MERGE POINT = 5450.0                                                    \n",
       "HISTORY                                                                         \n",
       "HISTORY Units: Angstroms(A) and erg s-1 cm-2 A-1                                \n",
       "HISTORY  All wavelengths are in vacuum.                                         \n",
       "HISTORY  Written by MAKE_STIS_CALSPEC.pro  24-Dec-2014                          \n",
       "HISTORY  Sources for this spectrum:                                             \n",
       "HISTORY ----------------   ----------------------   ----------                  \n",
       "HISTORY WAVELENGTH RANGE         SOURCE                FILE                     \n",
       "HISTORY ----------------   ----------------------   ----------                  \n",
       "HISTORY  1711   10120       STIS                    hd205905.mrg                \n",
       "HISTORY 10120  400000       CK04 Model              CK04 grid                   \n",
       "HISTORY Model with Teff,log g,log z,E(B-V)= 5820  3.30 -0.16 0.000              \n",
       "HISTORY Normalized to Obs. Flux at 6000-9000A                                   \n",
       "HISTORY CHANGES from previous version:                                          \n",
       "HISTORY   The STIS G750L flux changes because of the new                        \n",
       "HISTORY   gwidth=11 calibration (Bohlin & Proffitt STIS ISR)                    \n",
       "HISTORY For details see:                                                        \n",
       "HISTORY   http://www.stsci.edu/hst/observatory/cdbs/calspec.html                \n",
       "FILENAME= 'hd205905_stis_003.fits' /                                            \n",
       "WMIN    =        1711.29492200 /Minumum Wavelength                              \n",
       "WMAX    =        400000.000000 /Maximum Wavelength                              \n",
       "                                                                                \n",
       "                                                                                \n",
       "                                                                                \n",
       "                                                                                \n",
       "                                                                                \n",
       "                                                                                \n",
       "                                                                                \n",
       "                                                                                \n",
       "                                                                                \n",
       "                                                                                \n",
       "                                                                                \n",
       "                                                                                "
      ]
     },
     "execution_count": 9,
     "metadata": {},
     "output_type": "execute_result"
    }
   ],
   "source": [
    "hdulist[0].header"
   ]
  },
  {
   "cell_type": "code",
   "execution_count": 10,
   "metadata": {
    "collapsed": false
   },
   "outputs": [
    {
     "name": "stdout",
     "output_type": "stream",
     "text": [
      "['SIMPLE', 'BITPIX', 'NAXIS', 'EXTEND', 'ORIGIN', 'DATE', 'IRAF-TLM', 'TARGETID', 'DBTABLE', 'MAPKEY', 'AIRMASS', 'DESCRIP', 'SOURCE', 'SOURCE2', 'USEAFTER', 'COMMENT', 'PEDIGREE', 'HISTORY', 'HISTORY', 'HISTORY', 'HISTORY', 'HISTORY', 'HISTORY', 'HISTORY', 'HISTORY', 'HISTORY', 'HISTORY', 'HISTORY', 'HISTORY', 'HISTORY', 'HISTORY', 'HISTORY', 'HISTORY', 'HISTORY', 'HISTORY', 'HISTORY', 'HISTORY', 'HISTORY', 'HISTORY', 'HISTORY', 'HISTORY', 'HISTORY', 'HISTORY', 'HISTORY', 'HISTORY', 'HISTORY', 'HISTORY', 'HISTORY', 'HISTORY', 'HISTORY', 'HISTORY', 'HISTORY', 'HISTORY', 'HISTORY', 'HISTORY', 'HISTORY', 'FILENAME', 'WMIN', 'WMAX', '', '', '', '', '', '', '', '', '', '', '', '']\n"
     ]
    }
   ],
   "source": [
    "print hdulist[0].header.keys()"
   ]
  },
  {
   "cell_type": "markdown",
   "metadata": {},
   "source": [
    "## Secondary extension"
   ]
  },
  {
   "cell_type": "code",
   "execution_count": 11,
   "metadata": {
    "collapsed": false
   },
   "outputs": [
    {
     "data": {
      "text/plain": [
       "XTENSION= 'BINTABLE'           /Written by IDL:  Wed Dec 24 09:04:47 2014       \n",
       "BITPIX  =                    8 /                                                \n",
       "NAXIS   =                    2 /Binary table                                    \n",
       "NAXIS1  =                   30 /Number of bytes per row                         \n",
       "NAXIS2  =                 3739 /Number of rows                                  \n",
       "PCOUNT  =                    0 /Random parameter count                          \n",
       "GCOUNT  =                    1 /Group count                                     \n",
       "TFIELDS =                    7 /Number of columns                               \n",
       "EXTNAME = 'SCI     '           /                                                \n",
       "EXTVER  =                    1 /                                                \n",
       "INHERIT =                    T /                                                \n",
       "TFORM1  = '1D      '           /Real*8 (double precision)                       \n",
       "TTYPE1  = 'WAVELENGTH'         /Label for column 1                              \n",
       "TUNIT1  = 'ANGSTROMS'          /Units of column 1                               \n",
       "TDISP1  = 'G10.4   '           /Display format for column 1                     \n",
       "TFORM2  = '1E      '           /Real*4 (floating point)                         \n",
       "TTYPE2  = 'FLUX    '           /Absolutely calibrated net spectrum              \n",
       "TUNIT2  = 'FLAM    '           /Units of column 2                               \n",
       "TDISP2  = 'E12.4   '           /Display format for column 2                     \n",
       "TFORM3  = '1E      '           /Real*4 (floating point)                         \n",
       "TTYPE3  = 'STATERROR'          /Statistical flux error                          \n",
       "TUNIT3  = 'FLAM    '           /Units of column 3                               \n",
       "TDISP3  = 'E12.4   '           /Display format for column 3                     \n",
       "TFORM4  = '1E      '           /Real*4 (floating point)                         \n",
       "TTYPE4  = 'SYSERROR'           /Systematic flux error=0.01*FLAM                 \n",
       "TUNIT4  = 'FLAM    '           /Units of column 4                               \n",
       "TDISP4  = 'E12.4   '           /Display format for column 4                     \n",
       "TFORM5  = '1E      '           /Real*4 (floating point)                         \n",
       "TTYPE5  = 'FWHM    '           /FWHM spectral resolution                        \n",
       "TUNIT5  = 'ANGSTROMS'          /Units of column 5                               \n",
       "TDISP5  = 'G6.2    '           /Display format for column 5                     \n",
       "TFORM6  = '1I      '           /Integer*2 (short integer)                       \n",
       "TTYPE6  = 'DATAQUAL'           /Data quality: 1=good, 0=bad                     \n",
       "TUNIT6  = 'NONE    '           /Units of column 6                               \n",
       "TDISP6  = 'I2      '           /Display format for column 6                     \n",
       "TFORM7  = '1E      '           /Real*4 (floating point)                         \n",
       "TTYPE7  = 'TOTEXP  '           /Total exposure time                             \n",
       "TUNIT7  = 'SEC     '           /Units of column 7                               \n",
       "TDISP7  = 'G10.2   '           /Display format for column 7                     "
      ]
     },
     "execution_count": 11,
     "metadata": {},
     "output_type": "execute_result"
    }
   ],
   "source": [
    "hdulist[1].header"
   ]
  },
  {
   "cell_type": "code",
   "execution_count": 12,
   "metadata": {
    "collapsed": false
   },
   "outputs": [],
   "source": [
    "table_data=hdulist[1].data"
   ]
  },
  {
   "cell_type": "code",
   "execution_count": 13,
   "metadata": {
    "collapsed": false
   },
   "outputs": [],
   "source": [
    "wavelength=table_data['WAVELENGTH'] # in Angstrom"
   ]
  },
  {
   "cell_type": "code",
   "execution_count": 14,
   "metadata": {
    "collapsed": false
   },
   "outputs": [
    {
     "data": {
      "text/plain": [
       "ColDefs(\n",
       "    name = 'WAVELENGTH'; format = '1D'; unit = 'ANGSTROMS'; disp = 'G10.4'\n",
       "    name = 'FLUX'; format = '1E'; unit = 'FLAM'; disp = 'E12.4'\n",
       "    name = 'STATERROR'; format = '1E'; unit = 'FLAM'; disp = 'E12.4'\n",
       "    name = 'SYSERROR'; format = '1E'; unit = 'FLAM'; disp = 'E12.4'\n",
       "    name = 'FWHM'; format = '1E'; unit = 'ANGSTROMS'; disp = 'G6.2'\n",
       "    name = 'DATAQUAL'; format = '1I'; unit = 'NONE'; disp = 'I2'\n",
       "    name = 'TOTEXP'; format = '1E'; unit = 'SEC'; disp = 'G10.2'\n",
       ")"
      ]
     },
     "execution_count": 14,
     "metadata": {},
     "output_type": "execute_result"
    }
   ],
   "source": [
    "table_data.columns  # shows the columns names of the table"
   ]
  },
  {
   "cell_type": "code",
   "execution_count": 22,
   "metadata": {
    "collapsed": false
   },
   "outputs": [],
   "source": [
    "wavelengths=table_data.field('WAVELENGTH')/10."
   ]
  },
  {
   "cell_type": "code",
   "execution_count": 16,
   "metadata": {
    "collapsed": true
   },
   "outputs": [],
   "source": [
    "fluxes=table_data.field('FLUX')"
   ]
  },
  {
   "cell_type": "code",
   "execution_count": 37,
   "metadata": {
    "collapsed": true
   },
   "outputs": [],
   "source": [
    "ymax=fluxes.max()*1.1\n",
    "ymin=fluxes.min()"
   ]
  },
  {
   "cell_type": "code",
   "execution_count": 64,
   "metadata": {
    "collapsed": true
   },
   "outputs": [],
   "source": [
    "wl_O2Aline=759.37\n",
    "wl_O2Bline=686.719\n",
    "wl_Haline=656.281 \n",
    "wl_Hbline=486.134\n",
    "wl_Hgline=434.047 \n",
    "wl_Hdline=410.175\n",
    "\n",
    "wl_Naline=589.592+1\n",
    "wl_Heliline=587.5618-1\n",
    "\n",
    "\n",
    "wl_Hgline=546.073\n",
    "wl_Feline=527.039"
   ]
  },
  {
   "cell_type": "code",
   "execution_count": 66,
   "metadata": {
    "collapsed": false
   },
   "outputs": [
    {
     "name": "stdout",
     "output_type": "stream",
     "text": [
      "SED_hd205905_stis_003.pdf\n"
     ]
    },
    {
     "data": {
      "image/png": "[encoded data removed]",
      "text/plain": [
       "<matplotlib.figure.Figure at 0x10aa939d0>"
      ]
     },
     "metadata": {},
     "output_type": "display_data"
    }
   ],
   "source": [
    "#plt.figure(figsize=(8.,6.))\n",
    "plt.plot(wavelengths,fluxes)\n",
    "title='SED for {}'.format(basefilename)\n",
    "figfilename='SED_{}'.format(basefilename.split('.')[0])+'.pdf'\n",
    "print figfilename\n",
    "plt.xlabel('$\\lambda$ (nm)')\n",
    "plt.ylabel('Flux in FLAM')\n",
    "plt.title(title)\n",
    "plt.xlim(0.,1800.)\n",
    "plt.ylim(YMIN,YMAX)\n",
    "plt.grid(True)\n",
    "\n",
    "plt.plot([wl_O2Aline,wl_O2Aline],[ymin,ymax],'b-',label='$O_2(A)$',lw=1)\n",
    "plt.plot([wl_O2Bline,wl_O2Bline],[ymin,ymax],'b-',label='$O_2(B)$',lw=1)\n",
    "plt.plot([wl_Haline,wl_Haline],[ymin,ymax],'r-',label='$H_{alpha}$',lw=1)\n",
    "plt.plot([wl_Hbline,wl_Hbline],[ymin,ymax],'g-',label='$H_{beta}$',lw=1)\n",
    "plt.plot([wl_Hgline,wl_Hgline],[ymin,ymax],'c-',label='$H_{gamma}$',lw=1)\n",
    "plt.plot([wl_Hdline,wl_Hdline],[ymin,ymax],'k-',label='$H_{delta}$',lw=1)\n",
    "plt.plot([wl_Heline,wl_Heline],[ymin,ymax],'c-',label='$H_{epsilon}$',lw=1)\n",
    "\n",
    "plt.plot([wl_Naline,wl_Naline],[ymin,ymax],'m-',label='$H_{Na}$',lw=0.5)\n",
    "plt.plot([wl_Heliline,wl_Heliline],[ymin,ymax],'y-',label='$H_{He}$',lw=0.5)\n",
    "\n",
    "plt.plot(wavelengths,fluxes,'b-',lw=3)\n",
    "plt.legend(loc='best',fontsize=30)\n",
    "\n",
    "plt.savefig(figfilename)"
   ]
  },
  {
   "cell_type": "code",
   "execution_count": null,
   "metadata": {
    "collapsed": true
   },
   "outputs": [],
   "source": []
  }
 ],
 "metadata": {
  "kernelspec": {
   "display_name": "Python 2",
   "language": "python",
   "name": "python2"
  },
  "language_info": {
   "codemirror_mode": {
    "name": "ipython",
    "version": 2
   },
   "file_extension": ".py",
   "mimetype": "text/x-python",
   "name": "python",
   "nbconvert_exporter": "python",
   "pygments_lexer": "ipython2",
   "version": "2.7.12"
  }
 },
 "nbformat": 4,
 "nbformat_minor": 0
}
