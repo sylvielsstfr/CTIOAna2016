{
 "cells": [
  {
   "cell_type": "markdown",
   "metadata": {},
   "source": [
    "# Make Logbook of Trim images of CTIO Data\n",
    "==================================================================================================\n",
    "\n",
    "- author : Sylvie Dagoret-Campagne\n",
    "- date   : November 15th 2016\n"
   ]
  },
  {
   "cell_type": "code",
   "execution_count": 126,
   "metadata": {
    "collapsed": false
   },
   "outputs": [],
   "source": [
    "%matplotlib inline\n",
    "import matplotlib.pyplot as plt\n",
    "import numpy as np\n",
    "\n",
    "from astropy.modeling import models\n",
    "from astropy import units as u\n",
    "from astropy import nddata\n",
    "from astropy.io import fits\n",
    "from astropy.table import Table, Column\n",
    "import re\n",
    "import os"
   ]
  },
  {
   "cell_type": "code",
   "execution_count": 127,
   "metadata": {
    "collapsed": true
   },
   "outputs": [],
   "source": [
    "import pandas as pd"
   ]
  },
  {
   "cell_type": "code",
   "execution_count": 128,
   "metadata": {
    "collapsed": false
   },
   "outputs": [],
   "source": [
    "# to enlarge the sizes\n",
    "params = {'legend.fontsize': 'x-large',\n",
    "          'figure.figsize': (8, 8),\n",
    "         'axes.labelsize': 'x-large',\n",
    "         'axes.titlesize':'x-large',\n",
    "         'xtick.labelsize':'x-large',\n",
    "         'ytick.labelsize':'x-large'}\n",
    "plt.rcParams.update(params)"
   ]
  },
  {
   "cell_type": "markdown",
   "metadata": {},
   "source": [
    "## Location of trim images\n",
    "----------------------------------"
   ]
  },
  {
   "cell_type": "code",
   "execution_count": 129,
   "metadata": {
    "collapsed": true
   },
   "outputs": [],
   "source": [
    "rootpath_rawimage=\"../../CTIOData2016/August2016/Trim_HD205905\"\n",
    "object_name='HD205905'"
   ]
  },
  {
   "cell_type": "code",
   "execution_count": 130,
   "metadata": {
    "collapsed": false
   },
   "outputs": [],
   "source": [
    "filelist_all=os.listdir(rootpath_rawimage) "
   ]
  },
  {
   "cell_type": "code",
   "execution_count": 131,
   "metadata": {
    "collapsed": false
   },
   "outputs": [],
   "source": [
    "logfile='logbk_'+object_name+'.fits'"
   ]
  },
  {
   "cell_type": "code",
   "execution_count": 132,
   "metadata": {
    "collapsed": true
   },
   "outputs": [],
   "source": [
    "indexes_files= []\n",
    "filelist_fitsimages= []\n",
    "for filename in filelist_all:\n",
    "    if re.search('^trim_fileno.*fits$',filename):  #example of filename filter\n",
    "        str_number=re.findall('^trim_fileno([0-9]+).fits$',filename)\n",
    "        number=int(float(str_number[0]))\n",
    "        filelist_fitsimages.append(filename)\n",
    "        indexes_files.append(number)"
   ]
  },
  {
   "cell_type": "code",
   "execution_count": null,
   "metadata": {
    "collapsed": false
   },
   "outputs": [],
   "source": []
  },
  {
   "cell_type": "code",
   "execution_count": 133,
   "metadata": {
    "collapsed": true
   },
   "outputs": [],
   "source": [
    "sorted_indexes=np.argsort(indexes_files) # sort the file indexes"
   ]
  },
  {
   "cell_type": "markdown",
   "metadata": {},
   "source": [
    "### Short filename sorted"
   ]
  },
  {
   "cell_type": "code",
   "execution_count": 134,
   "metadata": {
    "collapsed": true
   },
   "outputs": [],
   "source": [
    "sorted_files= [filelist_fitsimages[index] for index in sorted_indexes] # sort files"
   ]
  },
  {
   "cell_type": "markdown",
   "metadata": {},
   "source": [
    "### Sorted file numbers"
   ]
  },
  {
   "cell_type": "code",
   "execution_count": 135,
   "metadata": {
    "collapsed": false
   },
   "outputs": [],
   "source": [
    "sorted_numbers= [indexes_files[index] for index in sorted_indexes]"
   ]
  },
  {
   "cell_type": "markdown",
   "metadata": {},
   "source": [
    "#### Sorted fullfilename"
   ]
  },
  {
   "cell_type": "code",
   "execution_count": 136,
   "metadata": {
    "collapsed": false
   },
   "outputs": [],
   "source": [
    "sorted_filenames=[]\n",
    "for file in sorted_files:\n",
    "    fullfilename=os.path.join(rootpath_rawimage,file)\n",
    "    indexes_files.append(number)\n",
    "    sorted_filenames.append(fullfilename)"
   ]
  },
  {
   "cell_type": "markdown",
   "metadata": {
    "collapsed": false
   },
   "source": [
    "### Build tables for output file"
   ]
  },
  {
   "cell_type": "code",
   "execution_count": null,
   "metadata": {
    "collapsed": false
   },
   "outputs": [],
   "source": []
  },
  {
   "cell_type": "code",
   "execution_count": 137,
   "metadata": {
    "collapsed": false
   },
   "outputs": [],
   "source": [
    "all_headers = []\n",
    "all_dates = []\n",
    "all_airmass = []\n",
    "all_exposures = []\n",
    "all_ut = []\n",
    "all_ra = []\n",
    "all_dec = []\n",
    "all_epoch = []\n",
    "all_zenith = []\n",
    "all_ha = []\n",
    "all_st = []\n",
    "all_alt = []\n",
    "all_focus = []\n",
    "all_temp = []\n",
    "all_press = []\n",
    "all_hum = []\n",
    "all_windsp = []\n",
    "all_seeing = []\n",
    "all_seeingam = []\n",
    "\n",
    "for idx,file in np.ndenumerate(sorted_filenames):   \n",
    "    hdu_list=fits.open(file)\n",
    "    header=hdu_list[0].header\n",
    "    date_obs = header['DATE-OBS']\n",
    "    airmass = float(header['AIRMASS'])\n",
    "    expo= float(header['EXPTIME'])\n",
    "    num=sorted_numbers[idx[0]]\n",
    "    all_dates.append(date_obs)\n",
    "    all_airmass.append(airmass)\n",
    "    all_headers.append(header)\n",
    "    all_exposures.append(expo)\n",
    "   \n",
    "    ut=header['UT']\n",
    "    ra=header['RA']\n",
    "    dec=header['DEC']\n",
    "    epoch=float(header['EPOCH'])\n",
    "    zd = float(header['ZD'])\n",
    "    ha = header['HA']\n",
    "    st = header['ST']\n",
    "    alt = float(header['ALT'])\n",
    "    fcl = float(header['TELFOCUS'])\n",
    "    temp= float(header['OUTTEMP'])\n",
    "    press= float(header['OUTPRESS'])\n",
    "    hum= float(header['OUTHUM'])\n",
    "    windsp=float(header['WNDSPEED'])\n",
    "    seeing=float(header['SEEING'])\n",
    "    seeingam=float(header['SAIRMASS'])\n",
    "    \n",
    "    all_ut.append(ut)\n",
    "    all_ra.append(ra)\n",
    "    all_dec.append(dec)\n",
    "    all_epoch.append(epoch)\n",
    "    all_zenith.append(zd)\n",
    "    all_ha.append(ha)\n",
    "    all_st.append(st)\n",
    "    all_alt.append(alt)\n",
    "    all_focus.append(fcl)\n",
    "    all_temp.append(temp)\n",
    "    all_press.append(press)\n",
    "    all_hum.append(hum)\n",
    "    all_windsp.append(windsp)\n",
    "    all_seeing.append(seeing)\n",
    "    all_seeingam.append(seeingam)\n",
    "\n",
    "    hdu_list.close()\n",
    "    "
   ]
  },
  {
   "cell_type": "markdown",
   "metadata": {},
   "source": [
    "## Build outputfile"
   ]
  },
  {
   "cell_type": "code",
   "execution_count": 138,
   "metadata": {
    "collapsed": false
   },
   "outputs": [],
   "source": [
    "col_airmass=np.array(all_airmass)\n",
    "col_number=np.array(sorted_numbers)\n",
    "col_date=np.array(all_dates)\n",
    "col_filename=np.array(sorted_files)\n",
    "col_exposure=np.array(all_exposures)\n",
    "col_zenith=np.array(all_zenith)\n",
    "col_altitude=np.array(all_alt)\n",
    "col_temperature=np.array(all_temp)\n",
    "col_pressure=np.array(all_press)\n",
    "col_humidity=np.array(all_hum)\n",
    "col_windsp=np.array(all_windsp)\n",
    "col_seeing=np.array(all_seeing)\n"
   ]
  },
  {
   "cell_type": "code",
   "execution_count": 139,
   "metadata": {
    "collapsed": false
   },
   "outputs": [],
   "source": [
    "c1 = fits.Column(name='number', format='J', array=col_number)\n",
    "c2 = fits.Column(name='airmass', format='E', array=col_airmass)\n",
    "c3 = fits.Column(name='date', format='A50', array=col_date)\n",
    "c4 = fits.Column(name='filename', format='A30', array=col_filename)\n",
    "c5 = fits.Column(name='exposure', format='E', array=col_exposure) \n",
    "c6 = fits.Column(name='zenith', format='E', array=col_zenith) \n",
    "#c7 = fits.Column(name='altitude', format='E', array=col_altitude) \n",
    "c8 = fits.Column(name='temperature', format='E', array=col_temperature) \n",
    "c9 = fits.Column(name='pressure', format='E', array=col_pressure) \n",
    "c10 = fits.Column(name='humidity', format='E', array=col_humidity) \n",
    "c11 = fits.Column(name='windspeed', format='E', array=col_windsp) \n",
    "c12 = fits.Column(name='seeing', format='E', array=col_seeing) \n"
   ]
  },
  {
   "cell_type": "code",
   "execution_count": 140,
   "metadata": {
    "collapsed": true
   },
   "outputs": [],
   "source": [
    "tbhdu = fits.BinTableHDU.from_columns([c1, c2, c3, c4, c5,c6,c8,c9,c10,c11,c12])"
   ]
  },
  {
   "cell_type": "code",
   "execution_count": 141,
   "metadata": {
    "collapsed": false
   },
   "outputs": [],
   "source": [
    "tbhdu.writeto(logfile,clobber=True)"
   ]
  },
  {
   "cell_type": "markdown",
   "metadata": {},
   "source": [
    "## Convert into Table\n",
    "---------------------------"
   ]
  },
  {
   "cell_type": "code",
   "execution_count": 142,
   "metadata": {
    "collapsed": false
   },
   "outputs": [],
   "source": [
    "thetable= Table(tbhdu.data)"
   ]
  },
  {
   "cell_type": "code",
   "execution_count": 143,
   "metadata": {
    "collapsed": false
   },
   "outputs": [
    {
     "data": {
      "text/html": [
       "&lt;Table length=58&gt;\n",
       "<table id=\"table4494122640-470425\" class=\"table table-striped table-bordered table-condensed\">\n",
       "<thead><tr><th>number</th><th>airmass</th><th>date</th><th>filename</th><th>exposure</th><th>zenith</th><th>temperature</th><th>pressure</th><th>humidity</th><th>windspeed</th><th>seeing</th></tr></thead>\n",
       "<tr><td>16</td><td>1.05</td><td>2016-08-23T02:55:43.922</td><td>trim_fileno016.fits</td><td>20.0</td><td>17.825</td><td>17.5</td><td>778.0</td><td>14.0</td><td>12.8</td><td>1.137</td></tr>\n",
       "<tr><td>35</td><td>1.01</td><td>2016-08-23T03:42:22.879</td><td>trim_fileno035.fits</td><td>20.0</td><td>7.914</td><td>18.0</td><td>778.0</td><td>18.0</td><td>22.1</td><td>1.137</td></tr>\n",
       "<tr><td>51</td><td>1.001</td><td>2016-08-23T04:15:21.175</td><td>trim_fileno051.fits</td><td>20.0</td><td>2.951</td><td>17.8</td><td>778.0</td><td>18.0</td><td>24.8</td><td>1.137</td></tr>\n",
       "<tr><td>77</td><td>1.066</td><td>2016-08-23T05:47:35.480</td><td>trim_fileno077.fits</td><td>20.0</td><td>20.362</td><td>17.8</td><td>778.0</td><td>17.0</td><td>16.4</td><td>1.137</td></tr>\n",
       "<tr><td>266</td><td>1.042</td><td>2016-08-24T02:58:21.824</td><td>trim_fileno266.fits</td><td>20.0</td><td>16.404</td><td>13.2</td><td>778.0</td><td>24.0</td><td>14.5</td><td>1.137</td></tr>\n",
       "<tr><td>267</td><td>1.041</td><td>2016-08-24T02:59:25.338</td><td>trim_fileno267.fits</td><td>20.0</td><td>16.176</td><td>13.3</td><td>778.0</td><td>24.0</td><td>13.5</td><td>1.137</td></tr>\n",
       "<tr><td>268</td><td>1.04</td><td>2016-08-24T03:00:28.852</td><td>trim_fileno268.fits</td><td>20.0</td><td>15.948</td><td>13.3</td><td>778.0</td><td>24.0</td><td>14.0</td><td>1.137</td></tr>\n",
       "<tr><td>320</td><td>1.002</td><td>2016-08-24T04:20:49.127</td><td>trim_fileno320.fits</td><td>20.0</td><td>3.548</td><td>14.1</td><td>778.0</td><td>21.0</td><td>18.6</td><td>1.137</td></tr>\n",
       "<tr><td>321</td><td>1.002</td><td>2016-08-24T04:21:52.638</td><td>trim_fileno321.fits</td><td>20.0</td><td>3.683</td><td>14.2</td><td>778.0</td><td>21.0</td><td>20.0</td><td>1.137</td></tr>\n",
       "<tr><td>322</td><td>1.002</td><td>2016-08-24T04:22:56.148</td><td>trim_fileno322.fits</td><td>20.0</td><td>3.826</td><td>14.1</td><td>778.0</td><td>21.0</td><td>19.7</td><td>1.137</td></tr>\n",
       "<tr><td>392</td><td>1.089</td><td>2016-08-24T05:57:35.423</td><td>trim_fileno392.fits</td><td>20.0</td><td>23.383</td><td>14.4</td><td>777.0</td><td>19.0</td><td>22.8</td><td>1.137</td></tr>\n",
       "<tr><td>393</td><td>1.091</td><td>2016-08-24T05:58:38.763</td><td>trim_fileno393.fits</td><td>20.0</td><td>23.611</td><td>14.3</td><td>777.0</td><td>19.0</td><td>22.8</td><td>1.137</td></tr>\n",
       "<tr><td>394</td><td>1.093</td><td>2016-08-24T05:59:42.278</td><td>trim_fileno394.fits</td><td>20.0</td><td>23.841</td><td>14.3</td><td>777.0</td><td>19.0</td><td>22.8</td><td>1.137</td></tr>\n",
       "<tr><td>446</td><td>1.286</td><td>2016-08-24T07:09:54.176</td><td>trim_fileno446.fits</td><td>20.0</td><td>39.01</td><td>13.9</td><td>777.0</td><td>21.0</td><td>21.1</td><td>1.137</td></tr>\n",
       "<tr><td>447</td><td>1.29</td><td>2016-08-24T07:10:57.697</td><td>trim_fileno447.fits</td><td>20.0</td><td>39.237</td><td>14.1</td><td>777.0</td><td>21.0</td><td>23.0</td><td>1.137</td></tr>\n",
       "<tr><td>448</td><td>1.294</td><td>2016-08-24T07:12:01.213</td><td>trim_fileno448.fits</td><td>20.0</td><td>39.465</td><td>14.2</td><td>777.0</td><td>20.0</td><td>21.9</td><td>1.137</td></tr>\n",
       "<tr><td>617</td><td>1.191</td><td>2016-08-25T01:37:54.822</td><td>trim_fileno617.fits</td><td>20.0</td><td>32.957</td><td>12.8</td><td>780.0</td><td>20.0</td><td>15.0</td><td>1.007</td></tr>\n",
       "<tr><td>618</td><td>1.188</td><td>2016-08-25T01:38:58.336</td><td>trim_fileno618.fits</td><td>20.0</td><td>32.728</td><td>12.7</td><td>780.0</td><td>20.0</td><td>14.3</td><td>1.132</td></tr>\n",
       "<tr><td>619</td><td>1.185</td><td>2016-08-25T01:40:01.857</td><td>trim_fileno619.fits</td><td>20.0</td><td>32.499</td><td>12.4</td><td>780.0</td><td>20.0</td><td>16.6</td><td>1.311</td></tr>\n",
       "<tr><td>1016</td><td>1.837</td><td>2016-08-25T23:40:53.427</td><td>trim_fileno1016.fits</td><td>20.0</td><td>57.103</td><td>14.8</td><td>778.0</td><td>17.0</td><td>8.1</td><td>1.14</td></tr>\n",
       "<tr><td>1017</td><td>1.826</td><td>2016-08-25T23:41:56.940</td><td>trim_fileno1017.fits</td><td>20.0</td><td>56.881</td><td>14.8</td><td>778.0</td><td>17.0</td><td>7.4</td><td>0.852</td></tr>\n",
       "<tr><td>1018</td><td>1.816</td><td>2016-08-25T23:43:00.269</td><td>trim_fileno1018.fits</td><td>20.0</td><td>56.66</td><td>14.8</td><td>778.0</td><td>17.0</td><td>6.8</td><td>0.943</td></tr>\n",
       "<tr><td>1052</td><td>1.443</td><td>2016-08-26T00:32:26.431</td><td>trim_fileno1052.fits</td><td>20.0</td><td>46.195</td><td>11.7</td><td>779.0</td><td>20.0</td><td>3.8</td><td>1.459</td></tr>\n",
       "<tr><td>1053</td><td>1.437</td><td>2016-08-26T00:33:29.948</td><td>trim_fileno1053.fits</td><td>20.0</td><td>45.969</td><td>11.7</td><td>779.0</td><td>20.0</td><td>2.9</td><td>1.184</td></tr>\n",
       "<tr><td>1054</td><td>1.432</td><td>2016-08-26T00:34:33.463</td><td>trim_fileno1054.fits</td><td>20.0</td><td>45.744</td><td>11.7</td><td>779.0</td><td>20.0</td><td>9.2</td><td>1.25</td></tr>\n",
       "<tr><td>1070</td><td>1.333</td><td>2016-08-26T00:54:36.521</td><td>trim_fileno1070.fits</td><td>20.0</td><td>41.452</td><td>11.8</td><td>779.0</td><td>20.0</td><td>3.4</td><td>1.542</td></tr>\n",
       "<tr><td>1071</td><td>1.329</td><td>2016-08-26T00:55:40.039</td><td>trim_fileno1071.fits</td><td>20.0</td><td>41.224</td><td>11.9</td><td>779.0</td><td>20.0</td><td>3.6</td><td>1.539</td></tr>\n",
       "<tr><td>1072</td><td>1.324</td><td>2016-08-26T00:56:43.375</td><td>trim_fileno1072.fits</td><td>20.0</td><td>40.998</td><td>12.1</td><td>779.0</td><td>20.0</td><td>3.6</td><td>1.295</td></tr>\n",
       "<tr><td>1088</td><td>1.254</td><td>2016-08-26T01:14:30.722</td><td>trim_fileno1088.fits</td><td>20.0</td><td>37.173</td><td>12.6</td><td>779.0</td><td>23.0</td><td>5.4</td><td>1.057</td></tr>\n",
       "<tr><td>1089</td><td>1.251</td><td>2016-08-26T01:15:34.071</td><td>trim_fileno1089.fits</td><td>20.0</td><td>36.945</td><td>12.7</td><td>779.0</td><td>23.0</td><td>5.7</td><td>1.142</td></tr>\n",
       "<tr><td>1090</td><td>1.247</td><td>2016-08-26T01:16:37.385</td><td>trim_fileno1090.fits</td><td>20.0</td><td>36.718</td><td>12.7</td><td>779.0</td><td>23.0</td><td>5.4</td><td>1.174</td></tr>\n",
       "<tr><td>1106</td><td>1.19</td><td>2016-08-26T01:34:24.926</td><td>trim_fileno1106.fits</td><td>20.0</td><td>32.877</td><td>12.6</td><td>779.0</td><td>23.0</td><td>6.7</td><td>1.115</td></tr>\n",
       "<tr><td>1107</td><td>1.187</td><td>2016-08-26T01:35:28.442</td><td>trim_fileno1107.fits</td><td>20.0</td><td>32.649</td><td>12.7</td><td>779.0</td><td>23.0</td><td>5.9</td><td>1.112</td></tr>\n",
       "<tr><td>1108</td><td>1.184</td><td>2016-08-26T01:36:31.953</td><td>trim_fileno1108.fits</td><td>20.0</td><td>32.42</td><td>12.6</td><td>779.0</td><td>23.0</td><td>5.8</td><td>1.11</td></tr>\n",
       "<tr><td>1142</td><td>1.067</td><td>2016-08-26T02:31:57.178</td><td>trim_fileno1142.fits</td><td>20.0</td><td>20.417</td><td>12.4</td><td>778.0</td><td>21.0</td><td>10.8</td><td>0.994</td></tr>\n",
       "<tr><td>1143</td><td>1.065</td><td>2016-08-26T02:33:00.518</td><td>trim_fileno1143.fits</td><td>20.0</td><td>20.189</td><td>12.5</td><td>778.0</td><td>21.0</td><td>11.5</td><td>0.994</td></tr>\n",
       "<tr><td>1144</td><td>1.064</td><td>2016-08-26T02:34:03.843</td><td>trim_fileno1144.fits</td><td>20.0</td><td>19.96</td><td>12.5</td><td>778.0</td><td>21.0</td><td>11.3</td><td>0.994</td></tr>\n",
       "<tr><td>1250</td><td>1.007</td><td>2016-08-26T04:31:22.329</td><td>trim_fileno1250.fits</td><td>20.0</td><td>6.73</td><td>11.2</td><td>778.0</td><td>23.0</td><td>18.2</td><td>0.994</td></tr>\n",
       "<tr><td>1251</td><td>1.007</td><td>2016-08-26T04:32:25.844</td><td>trim_fileno1251.fits</td><td>20.0</td><td>6.939</td><td>11.2</td><td>778.0</td><td>24.0</td><td>18.5</td><td>0.994</td></tr>\n",
       "<tr><td>1252</td><td>1.008</td><td>2016-08-26T04:33:29.356</td><td>trim_fileno1252.fits</td><td>20.0</td><td>7.15</td><td>11.1</td><td>778.0</td><td>24.0</td><td>17.9</td><td>0.994</td></tr>\n",
       "<tr><td>1268</td><td>1.018</td><td>2016-08-26T04:51:31.125</td><td>trim_fileno1268.fits</td><td>20.0</td><td>10.874</td><td>11.6</td><td>778.0</td><td>23.0</td><td>19.2</td><td>0.994</td></tr>\n",
       "<tr><td>1269</td><td>1.019</td><td>2016-08-26T04:52:34.643</td><td>trim_fileno1269.fits</td><td>20.0</td><td>11.098</td><td>11.6</td><td>778.0</td><td>23.0</td><td>21.9</td><td>0.994</td></tr>\n",
       "<tr><td>1270</td><td>1.02</td><td>2016-08-26T04:53:37.970</td><td>trim_fileno1270.fits</td><td>20.0</td><td>11.32</td><td>11.6</td><td>778.0</td><td>23.0</td><td>20.4</td><td>0.994</td></tr>\n",
       "<tr><td>1286</td><td>1.036</td><td>2016-08-26T05:11:20.071</td><td>trim_fileno1286.fits</td><td>20.0</td><td>15.102</td><td>12.1</td><td>778.0</td><td>22.0</td><td>16.6</td><td>0.994</td></tr>\n",
       "<tr><td>1287</td><td>1.037</td><td>2016-08-26T05:12:23.589</td><td>trim_fileno1287.fits</td><td>20.0</td><td>15.329</td><td>12.0</td><td>778.0</td><td>22.0</td><td>18.6</td><td>0.994</td></tr>\n",
       "<tr><td>1288</td><td>1.038</td><td>2016-08-26T05:13:27.102</td><td>trim_fileno1288.fits</td><td>20.0</td><td>15.557</td><td>11.8</td><td>778.0</td><td>22.0</td><td>20.4</td><td>0.994</td></tr>\n",
       "<tr><td>1304</td><td>1.06</td><td>2016-08-26T05:31:24.824</td><td>trim_fileno1304.fits</td><td>20.0</td><td>19.433</td><td>11.9</td><td>778.0</td><td>22.0</td><td>9.8</td><td>0.994</td></tr>\n",
       "<tr><td>1305</td><td>1.062</td><td>2016-08-26T05:32:28.337</td><td>trim_fileno1305.fits</td><td>20.0</td><td>19.662</td><td>11.9</td><td>778.0</td><td>22.0</td><td>10.7</td><td>0.994</td></tr>\n",
       "<tr><td>1306</td><td>1.063</td><td>2016-08-26T05:33:31.849</td><td>trim_fileno1306.fits</td><td>20.0</td><td>19.891</td><td>12.0</td><td>778.0</td><td>22.0</td><td>10.8</td><td>0.994</td></tr>\n",
       "<tr><td>1322</td><td>1.093</td><td>2016-08-26T05:51:44.575</td><td>trim_fileno1322.fits</td><td>20.0</td><td>23.835</td><td>12.1</td><td>778.0</td><td>22.0</td><td>12.6</td><td>0.994</td></tr>\n",
       "<tr><td>1323</td><td>1.095</td><td>2016-08-26T05:52:48.092</td><td>trim_fileno1323.fits</td><td>20.0</td><td>24.064</td><td>12.1</td><td>778.0</td><td>22.0</td><td>12.8</td><td>0.994</td></tr>\n",
       "<tr><td>1324</td><td>1.097</td><td>2016-08-26T05:53:51.606</td><td>trim_fileno1324.fits</td><td>20.0</td><td>24.293</td><td>12.1</td><td>778.0</td><td>22.0</td><td>12.0</td><td>0.994</td></tr>\n",
       "<tr><td>1340</td><td>1.136</td><td>2016-08-26T06:12:24.978</td><td>trim_fileno1340.fits</td><td>20.0</td><td>28.313</td><td>11.7</td><td>778.0</td><td>22.0</td><td>11.4</td><td>0.994</td></tr>\n",
       "<tr><td>1341</td><td>1.138</td><td>2016-08-26T06:13:28.495</td><td>trim_fileno1341.fits</td><td>20.0</td><td>28.542</td><td>11.7</td><td>778.0</td><td>22.0</td><td>11.2</td><td>0.994</td></tr>\n",
       "<tr><td>1342</td><td>1.14</td><td>2016-08-26T06:14:32.010</td><td>trim_fileno1342.fits</td><td>20.0</td><td>28.771</td><td>11.6</td><td>778.0</td><td>22.0</td><td>9.6</td><td>0.994</td></tr>\n",
       "<tr><td>1414</td><td>1.549</td><td>2016-08-26T07:52:45.732</td><td>trim_fileno1414.fits</td><td>20.0</td><td>49.865</td><td>9.9</td><td>778.0</td><td>22.0</td><td>10.4</td><td>0.994</td></tr>\n",
       "<tr><td>1415</td><td>1.556</td><td>2016-08-26T07:53:49.244</td><td>trim_fileno1415.fits</td><td>20.0</td><td>50.089</td><td>9.9</td><td>778.0</td><td>23.0</td><td>8.4</td><td>0.994</td></tr>\n",
       "<tr><td>1416</td><td>1.564</td><td>2016-08-26T07:54:52.756</td><td>trim_fileno1416.fits</td><td>20.0</td><td>50.314</td><td>9.8</td><td>778.0</td><td>23.0</td><td>9.6</td><td>0.994</td></tr>\n",
       "</table><style>table.dataTable {clear: both; width: auto !important; margin: 0 !important;}\n",
       ".dataTables_info, .dataTables_length, .dataTables_filter, .dataTables_paginate{\n",
       "display: inline-block; margin-right: 1em; }\n",
       ".paginate_button { margin-right: 5px; }\n",
       "</style>\n",
       "<script>\n",
       "require.config({paths: {\n",
       "    datatables: 'https://cdn.datatables.net/1.10.9/js/jquery.dataTables.min'\n",
       "}});\n",
       "require([\"datatables\"], function(){\n",
       "    console.log(\"$('#table4494122640-470425').dataTable()\");\n",
       "    $('#table4494122640-470425').dataTable({\n",
       "        \"order\": [],\n",
       "        \"iDisplayLength\": 50,\n",
       "        \"aLengthMenu\": [[10, 25, 50, 100, 500, 1000, -1], [10, 25, 50, 100, 500, 1000, 'All']],\n",
       "        \"pagingType\": \"full_numbers\"\n",
       "    });\n",
       "});\n",
       "</script>\n"
      ],
      "text/plain": [
       "<IPython.core.display.HTML object>"
      ]
     },
     "execution_count": 143,
     "metadata": {},
     "output_type": "execute_result"
    }
   ],
   "source": [
    "thetable.show_in_notebook()"
   ]
  },
  {
   "cell_type": "markdown",
   "metadata": {},
   "source": [
    "## Read the logfile into a Table\n",
    "---------------------------------------"
   ]
  },
  {
   "cell_type": "code",
   "execution_count": 144,
   "metadata": {
    "collapsed": true
   },
   "outputs": [],
   "source": [
    "t = Table.read(logfile)"
   ]
  },
  {
   "cell_type": "code",
   "execution_count": 145,
   "metadata": {
    "collapsed": false
   },
   "outputs": [
    {
     "data": {
      "text/html": [
       "&lt;Table length=58&gt;\n",
       "<table id=\"table4512392144\">\n",
       "<thead><tr><th>number</th><th>airmass</th><th>date</th><th>filename</th><th>exposure</th><th>zenith</th><th>temperature</th><th>pressure</th><th>humidity</th><th>windspeed</th><th>seeing</th></tr></thead>\n",
       "<thead><tr><th>int32</th><th>float32</th><th>str50</th><th>str30</th><th>float32</th><th>float32</th><th>float32</th><th>float32</th><th>float32</th><th>float32</th><th>float32</th></tr></thead>\n",
       "<tr><td>16</td><td>1.05</td><td>2016-08-23T02:55:43.922</td><td>trim_fileno016.fits</td><td>20.0</td><td>17.825</td><td>17.5</td><td>778.0</td><td>14.0</td><td>12.8</td><td>1.137</td></tr>\n",
       "<tr><td>35</td><td>1.01</td><td>2016-08-23T03:42:22.879</td><td>trim_fileno035.fits</td><td>20.0</td><td>7.914</td><td>18.0</td><td>778.0</td><td>18.0</td><td>22.1</td><td>1.137</td></tr>\n",
       "<tr><td>51</td><td>1.001</td><td>2016-08-23T04:15:21.175</td><td>trim_fileno051.fits</td><td>20.0</td><td>2.951</td><td>17.8</td><td>778.0</td><td>18.0</td><td>24.8</td><td>1.137</td></tr>\n",
       "<tr><td>77</td><td>1.066</td><td>2016-08-23T05:47:35.480</td><td>trim_fileno077.fits</td><td>20.0</td><td>20.362</td><td>17.8</td><td>778.0</td><td>17.0</td><td>16.4</td><td>1.137</td></tr>\n",
       "<tr><td>266</td><td>1.042</td><td>2016-08-24T02:58:21.824</td><td>trim_fileno266.fits</td><td>20.0</td><td>16.404</td><td>13.2</td><td>778.0</td><td>24.0</td><td>14.5</td><td>1.137</td></tr>\n",
       "<tr><td>267</td><td>1.041</td><td>2016-08-24T02:59:25.338</td><td>trim_fileno267.fits</td><td>20.0</td><td>16.176</td><td>13.3</td><td>778.0</td><td>24.0</td><td>13.5</td><td>1.137</td></tr>\n",
       "<tr><td>268</td><td>1.04</td><td>2016-08-24T03:00:28.852</td><td>trim_fileno268.fits</td><td>20.0</td><td>15.948</td><td>13.3</td><td>778.0</td><td>24.0</td><td>14.0</td><td>1.137</td></tr>\n",
       "<tr><td>320</td><td>1.002</td><td>2016-08-24T04:20:49.127</td><td>trim_fileno320.fits</td><td>20.0</td><td>3.548</td><td>14.1</td><td>778.0</td><td>21.0</td><td>18.6</td><td>1.137</td></tr>\n",
       "<tr><td>321</td><td>1.002</td><td>2016-08-24T04:21:52.638</td><td>trim_fileno321.fits</td><td>20.0</td><td>3.683</td><td>14.2</td><td>778.0</td><td>21.0</td><td>20.0</td><td>1.137</td></tr>\n",
       "<tr><td>322</td><td>1.002</td><td>2016-08-24T04:22:56.148</td><td>trim_fileno322.fits</td><td>20.0</td><td>3.826</td><td>14.1</td><td>778.0</td><td>21.0</td><td>19.7</td><td>1.137</td></tr>\n",
       "<tr><td>...</td><td>...</td><td>...</td><td>...</td><td>...</td><td>...</td><td>...</td><td>...</td><td>...</td><td>...</td><td>...</td></tr>\n",
       "<tr><td>1306</td><td>1.063</td><td>2016-08-26T05:33:31.849</td><td>trim_fileno1306.fits</td><td>20.0</td><td>19.891</td><td>12.0</td><td>778.0</td><td>22.0</td><td>10.8</td><td>0.994</td></tr>\n",
       "<tr><td>1322</td><td>1.093</td><td>2016-08-26T05:51:44.575</td><td>trim_fileno1322.fits</td><td>20.0</td><td>23.835</td><td>12.1</td><td>778.0</td><td>22.0</td><td>12.6</td><td>0.994</td></tr>\n",
       "<tr><td>1323</td><td>1.095</td><td>2016-08-26T05:52:48.092</td><td>trim_fileno1323.fits</td><td>20.0</td><td>24.064</td><td>12.1</td><td>778.0</td><td>22.0</td><td>12.8</td><td>0.994</td></tr>\n",
       "<tr><td>1324</td><td>1.097</td><td>2016-08-26T05:53:51.606</td><td>trim_fileno1324.fits</td><td>20.0</td><td>24.293</td><td>12.1</td><td>778.0</td><td>22.0</td><td>12.0</td><td>0.994</td></tr>\n",
       "<tr><td>1340</td><td>1.136</td><td>2016-08-26T06:12:24.978</td><td>trim_fileno1340.fits</td><td>20.0</td><td>28.313</td><td>11.7</td><td>778.0</td><td>22.0</td><td>11.4</td><td>0.994</td></tr>\n",
       "<tr><td>1341</td><td>1.138</td><td>2016-08-26T06:13:28.495</td><td>trim_fileno1341.fits</td><td>20.0</td><td>28.542</td><td>11.7</td><td>778.0</td><td>22.0</td><td>11.2</td><td>0.994</td></tr>\n",
       "<tr><td>1342</td><td>1.14</td><td>2016-08-26T06:14:32.010</td><td>trim_fileno1342.fits</td><td>20.0</td><td>28.771</td><td>11.6</td><td>778.0</td><td>22.0</td><td>9.6</td><td>0.994</td></tr>\n",
       "<tr><td>1414</td><td>1.549</td><td>2016-08-26T07:52:45.732</td><td>trim_fileno1414.fits</td><td>20.0</td><td>49.865</td><td>9.9</td><td>778.0</td><td>22.0</td><td>10.4</td><td>0.994</td></tr>\n",
       "<tr><td>1415</td><td>1.556</td><td>2016-08-26T07:53:49.244</td><td>trim_fileno1415.fits</td><td>20.0</td><td>50.089</td><td>9.9</td><td>778.0</td><td>23.0</td><td>8.4</td><td>0.994</td></tr>\n",
       "<tr><td>1416</td><td>1.564</td><td>2016-08-26T07:54:52.756</td><td>trim_fileno1416.fits</td><td>20.0</td><td>50.314</td><td>9.8</td><td>778.0</td><td>23.0</td><td>9.6</td><td>0.994</td></tr>\n",
       "</table>"
      ],
      "text/plain": [
       "<Table length=58>\n",
       "number airmass           date          ... humidity windspeed  seeing\n",
       "int32  float32          str50          ... float32   float32  float32\n",
       "------ ------- ----------------------- ... -------- --------- -------\n",
       "    16    1.05 2016-08-23T02:55:43.922 ...     14.0      12.8   1.137\n",
       "    35    1.01 2016-08-23T03:42:22.879 ...     18.0      22.1   1.137\n",
       "    51   1.001 2016-08-23T04:15:21.175 ...     18.0      24.8   1.137\n",
       "    77   1.066 2016-08-23T05:47:35.480 ...     17.0      16.4   1.137\n",
       "   266   1.042 2016-08-24T02:58:21.824 ...     24.0      14.5   1.137\n",
       "   267   1.041 2016-08-24T02:59:25.338 ...     24.0      13.5   1.137\n",
       "   268    1.04 2016-08-24T03:00:28.852 ...     24.0      14.0   1.137\n",
       "   320   1.002 2016-08-24T04:20:49.127 ...     21.0      18.6   1.137\n",
       "   321   1.002 2016-08-24T04:21:52.638 ...     21.0      20.0   1.137\n",
       "   322   1.002 2016-08-24T04:22:56.148 ...     21.0      19.7   1.137\n",
       "   ...     ...                     ... ...      ...       ...     ...\n",
       "  1306   1.063 2016-08-26T05:33:31.849 ...     22.0      10.8   0.994\n",
       "  1322   1.093 2016-08-26T05:51:44.575 ...     22.0      12.6   0.994\n",
       "  1323   1.095 2016-08-26T05:52:48.092 ...     22.0      12.8   0.994\n",
       "  1324   1.097 2016-08-26T05:53:51.606 ...     22.0      12.0   0.994\n",
       "  1340   1.136 2016-08-26T06:12:24.978 ...     22.0      11.4   0.994\n",
       "  1341   1.138 2016-08-26T06:13:28.495 ...     22.0      11.2   0.994\n",
       "  1342    1.14 2016-08-26T06:14:32.010 ...     22.0       9.6   0.994\n",
       "  1414   1.549 2016-08-26T07:52:45.732 ...     22.0      10.4   0.994\n",
       "  1415   1.556 2016-08-26T07:53:49.244 ...     23.0       8.4   0.994\n",
       "  1416   1.564 2016-08-26T07:54:52.756 ...     23.0       9.6   0.994"
      ]
     },
     "execution_count": 145,
     "metadata": {},
     "output_type": "execute_result"
    }
   ],
   "source": [
    "t"
   ]
  },
  {
   "cell_type": "markdown",
   "metadata": {},
   "source": [
    "## Convert into pandas to plot\n",
    "---------------------------------------"
   ]
  },
  {
   "cell_type": "code",
   "execution_count": 146,
   "metadata": {
    "collapsed": true
   },
   "outputs": [],
   "source": [
    "df = t.to_pandas()"
   ]
  },
  {
   "cell_type": "code",
   "execution_count": 147,
   "metadata": {
    "collapsed": false
   },
   "outputs": [
    {
     "data": {
      "text/plain": [
       "<matplotlib.axes._subplots.AxesSubplot at 0x10c72cb50>"
      ]
     },
     "execution_count": 147,
     "metadata": {},
     "output_type": "execute_result"
    },
    {
     "data": {
      "image/png": "[encoded data removed]",
      "text/plain": [
       "<matplotlib.figure.Figure at 0x10ce6e2d0>"
      ]
     },
     "metadata": {},
     "output_type": "display_data"
    }
   ],
   "source": [
    "df.plot('date','airmass',figsize=(20,6),rot=45,grid=True,title='airmass vs date',color='b',linewidth=2)\n"
   ]
  },
  {
   "cell_type": "code",
   "execution_count": null,
   "metadata": {
    "collapsed": true
   },
   "outputs": [],
   "source": []
  }
 ],
 "metadata": {
  "kernelspec": {
   "display_name": "Python 2",
   "language": "python",
   "name": "python2"
  },
  "language_info": {
   "codemirror_mode": {
    "name": "ipython",
    "version": 2
   },
   "file_extension": ".py",
   "mimetype": "text/x-python",
   "name": "python",
   "nbconvert_exporter": "python",
   "pygments_lexer": "ipython2",
   "version": "2.7.12"
  }
 },
 "nbformat": 4,
 "nbformat_minor": 0
}
