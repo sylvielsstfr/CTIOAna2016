{
 "cells": [
  {
   "cell_type": "markdown",
   "metadata": {},
   "source": [
    "# CT Air Transparency for a molecular scattering and absorbing sky\n",
    "\n",
    "## Use the realistic sky\n",
    "\n",
    "He we vary the ozone and H2O absorption according AIRS instrument measurements on-board AQUA\n",
    "\n",
    "- author Sylvie Dagoret-Campagne\n",
    "- creation date 24  November 2016\n"
   ]
  },
  {
   "cell_type": "markdown",
   "metadata": {},
   "source": []
  },
  {
   "cell_type": "code",
   "execution_count": 8,
   "metadata": {
    "collapsed": false
   },
   "outputs": [],
   "source": [
    "import numpy as np\n",
    "# Set up matplotlib and use a nicer set of plot parameters\n",
    "%config InlineBackend.rc = {}\n",
    "import matplotlib\n",
    "matplotlib.rc_file(\"templates/matplotlibrc\")\n",
    "import matplotlib.pyplot as plt\n",
    "%matplotlib inline"
   ]
  },
  {
   "cell_type": "code",
   "execution_count": 9,
   "metadata": {
    "collapsed": false
   },
   "outputs": [],
   "source": [
    "import pandas as pd\n",
    "import os\n",
    "import re"
   ]
  },
  {
   "cell_type": "code",
   "execution_count": 10,
   "metadata": {
    "collapsed": true
   },
   "outputs": [],
   "source": [
    "# to enlarge the sizes\n",
    "params = {'legend.fontsize': 'x-large',\n",
    "          'figure.figsize': (15, 6),\n",
    "         'axes.labelsize': 'x-large',\n",
    "         'axes.titlesize':'x-large',\n",
    "         'xtick.labelsize':'x-large',\n",
    "         'ytick.labelsize':'x-large'}\n",
    "plt.rcParams.update(params)"
   ]
  },
  {
   "cell_type": "markdown",
   "metadata": {},
   "source": [
    "### Defines where the LibRadTran files are"
   ]
  },
  {
   "cell_type": "code",
   "execution_count": 11,
   "metadata": {
    "collapsed": false
   },
   "outputs": [],
   "source": [
    "currentpath=os.getcwd()\n",
    "rootpath_2016='simulations/RT/2.0/CT/pp/us/sa/rt/y2016/'\n",
    "months_y2016=['08']\n",
    "months_y2016=np.array(months_y2016)\n",
    "month_y2016_tag={'01':'January', \n",
    "                 '02': 'February',\n",
    "                 '03': 'March',\n",
    "                 '04': 'April',\n",
    "                 '05': 'May',\n",
    "                 '06': 'June',\n",
    "                 '07': 'July',\n",
    "                 '08': 'August',\n",
    "                 '09': 'September',\n",
    "                 '10': 'October',\n",
    "                 '11': 'November',\n",
    "                 '12': 'December'\n",
    "                }"
   ]
  },
  {
   "cell_type": "markdown",
   "metadata": {},
   "source": [
    "### Make a year-list of  files for each month"
   ]
  },
  {
   "cell_type": "code",
   "execution_count": 12,
   "metadata": {
    "collapsed": false
   },
   "outputs": [],
   "source": [
    "filelist_2016=[]\n",
    "month_paths=[]\n",
    "for month in months_y2016:\n",
    "    month_root_path=rootpath_2016+'m'+month+'/out'\n",
    "    filelist=os.listdir(month_root_path) \n",
    "    month_paths.append(month_root_path)\n",
    "    month_filelist= []\n",
    "    for filename in filelist:\n",
    "        if re.search('_Nev',filename):  #example of filename filter\n",
    "            month_filelist.append(filename)\n",
    "    filelist_2016.append(month_filelist)"
   ]
  },
  {
   "cell_type": "code",
   "execution_count": null,
   "metadata": {
    "collapsed": false
   },
   "outputs": [],
   "source": []
  },
  {
   "cell_type": "markdown",
   "metadata": {
    "collapsed": false
   },
   "source": [
    "## A) Plot air Transparencies for each month"
   ]
  },
  {
   "cell_type": "markdown",
   "metadata": {},
   "source": [
    "### Function definition"
   ]
  },
  {
   "cell_type": "code",
   "execution_count": 20,
   "metadata": {
    "collapsed": false
   },
   "outputs": [],
   "source": [
    "def PlotAirTransparencyOneMonth(filelist,month_path,title_name,fig_name,YMIN=0,YMAX=1):\n",
    "    \"\"\"\n",
    "    PlotAirTransparencyOneMonth(filelist,month_path,title_name,fig_name,YMIN=0,YMAX=1)\n",
    "    ===================================================================================\n",
    "    Plot the images of air transparency for mone given month. The finename has one of a tag in his name\n",
    "    like 'aver', 'std1','std2','min','max'.\n",
    "    The line color and type and the legend depends on that tag\n",
    "    \n",
    "    input:\n",
    "    ------\n",
    "        filelist : list of filename of this month\n",
    "        month_path : path of the data corresponding to this month\n",
    "        title_name : title of the figure\n",
    "        fig_name : name of the figure\n",
    "        YMIN,YMAX vertical scale\n",
    "    output:\n",
    "    -------\n",
    "        The plot and the image in the file fig_name\n",
    "    \n",
    "    \"\"\"\n",
    "    plt.figure(figsize=(10,5))\n",
    "    idx=0\n",
    "    flagminmax=False\n",
    "    flagstd=False\n",
    "    for filename in filelist:\n",
    "        fullpath=os.path.join(month_path,filename)\n",
    "        data = np.loadtxt(fullpath)\n",
    "        x=data[:,0]\n",
    "        y=data[:,1]\n",
    "    \n",
    "        if idx==0:\n",
    "            plt.plot(x,y,'r-',linewidth=1,label='aver')\n",
    "        elif idx==3 or idx==4:\n",
    "            if not flagstd:\n",
    "                plt.plot(x,y,'b-',linewidth=1,label='+/-std')\n",
    "                flagstd=True\n",
    "            else:\n",
    "                plt.plot(x,y,'b-',linewidth=1)\n",
    "#        else:\n",
    "#            if not flagminmax:\n",
    "#                plt.plot(x,y,'k:',linewidth=2,label='min,max')\n",
    "#                flagminmax=True\n",
    "#            else:\n",
    "#                plt.plot(x,y,'k:',linewidth=2)\n",
    "                \n",
    "        idx=idx+1\n",
    "        \n",
    "    plt.xlim(100,1200)\n",
    "    plt.ylim(YMIN,YMAX)    \n",
    "\n",
    "    plt.xlabel('$\\lambda$ (nm)')\n",
    "    plt.ylabel('Air transparency')  \n",
    "    plt.legend(loc=3)\n",
    "    plt.title(title_name)\n",
    "    plt.savefig(fig_name)"
   ]
  },
  {
   "cell_type": "code",
   "execution_count": 18,
   "metadata": {
    "collapsed": false
   },
   "outputs": [],
   "source": [
    "def PlotRatioAirTransparencyOneMonth(filelist,month_path,title_name,fig_name,YMIN=0,YMAX=2):\n",
    "    \"\"\"\n",
    "    PlotRatioAirTransparencyOneMonth(filelist,month_path,title_name,fig_name,YMIN=0,YMAX=1)\n",
    "    ===================================================================================\n",
    "    Plot the images of air transparency for mone given month. The finename has one of a tag in his name\n",
    "    like 'aver', 'std1','std2','min','max'.\n",
    "    The line color and type and the legend depends on that tag\n",
    "    \n",
    "    input:\n",
    "    ------\n",
    "        filelist : list of filename of this month\n",
    "        month_path : path of the data corresponding to this month\n",
    "        title_name : title of the figure\n",
    "        fig_name : name of the figure\n",
    "        YMIN,YMAX vertical scale\n",
    "    output:\n",
    "    -------\n",
    "        The plot and the image in the file fig_name\n",
    "    \n",
    "    \"\"\"\n",
    "    plt.figure(figsize=(10,5))\n",
    "    idx=0\n",
    "    for filename in filelist:\n",
    "        fullpath=os.path.join(month_path,filename)\n",
    "        data = np.loadtxt(fullpath)\n",
    "        x=data[:,0]\n",
    "        y=data[:,1]\n",
    "    \n",
    "        if idx==0:\n",
    "            wl=x\n",
    "            tr_av=y\n",
    "        elif idx==3: \n",
    "             sdevp=y \n",
    "        elif idx==4:\n",
    "             sdevm=y \n",
    "        elif idx==1:\n",
    "             themax=y\n",
    "        elif idx==2:\n",
    "             themin=y\n",
    "        else:\n",
    "            print 'bad idx = ',idx                            \n",
    "        idx=idx+1\n",
    "        \n",
    "        \n",
    "    ratio_sdevp = sdevp/tr_av\n",
    "    ratio_sdevm = sdevm/tr_av\n",
    "    ratio_max = themax/tr_av\n",
    "    ratio_min = themin/tr_av\n",
    "    \n",
    "    NBWL=wl.shape[0]\n",
    "    y0=np.ones(NBWL)\n",
    "      \n",
    "    plt.plot(wl,y0,'r-',linewidth=1,label='aver')\n",
    "    plt.plot(wl,ratio_sdevp,'b-',linewidth=1,label='+/-std')             \n",
    "    plt.plot(wl,ratio_sdevm,'b-',linewidth=1)  \n",
    "    #plt.plot(wl,ratio_max,'k:',linewidth=2,label='min,max')       \n",
    "    #plt.plot(wl,ratio_min,'k:',linewidth=2)\n",
    "    \n",
    "    plt.xlim(100,1200)\n",
    "    plt.ylim(YMIN,YMAX)    \n",
    "\n",
    "    plt.xlabel('$\\lambda$ (nm)')\n",
    "    plt.ylabel('Air transparency ratio')  \n",
    "    plt.legend(loc=3)\n",
    "    plt.title(title_name)\n",
    "    plt.savefig(fig_name)"
   ]
  },
  {
   "cell_type": "markdown",
   "metadata": {},
   "source": [
    "### Plot for each month"
   ]
  },
  {
   "cell_type": "code",
   "execution_count": null,
   "metadata": {
    "collapsed": false
   },
   "outputs": [],
   "source": []
  },
  {
   "cell_type": "code",
   "execution_count": 19,
   "metadata": {
    "collapsed": false
   },
   "outputs": [
    {
     "data": {
      "image/png": "[encoded data removed]",
      "text/plain": [
       "<matplotlib.figure.Figure at 0x10af3ccd0>"
      ]
     },
     "metadata": {},
     "output_type": "display_data"
    }
   ],
   "source": [
    "for idx,month in np.ndenumerate(months_y2016):\n",
    "    title='CTIO Air Transparency in 2016 '+month_y2016_tag[month]\n",
    "    figure='AirTransp_CTIO_Y2016_M'+month+'_sa'+'.jpg'\n",
    "    PlotAirTransparencyOneMonth(filelist_2016[idx[0]],month_paths[idx[0]],title,figure)"
   ]
  },
  {
   "cell_type": "code",
   "execution_count": null,
   "metadata": {
    "collapsed": false
   },
   "outputs": [],
   "source": [
    "for idx,month in np.ndenumerate(months_y2016):\n",
    "    title='Air Transparency Ratio '+airmass_sel_tag[airmass_selection]+' in '+month_y2016_tag[month]\n",
    "    figure='RAirTransp_H2O_Y2016_M'+month+'_sa'+'.jpg'\n",
    "    PlotRatioAirTransparencyOneMonth(filelist_2016[idx[0]],month_paths[idx[0]],title,figure)"
   ]
  },
  {
   "cell_type": "code",
   "execution_count": null,
   "metadata": {
    "collapsed": false
   },
   "outputs": [],
   "source": [
    "for idx,month in np.ndenumerate(months_y2016):\n",
    "    title='Air Transparency Ratio '+airmass_sel_tag[airmass_selection]+' in '+month_y2016_tag[month]\n",
    "    figure='RAirTransp_O3_Y2016_M'+month+'_sa'+'.jpg'\n",
    "    PlotRatioAirTransparencyOneMonth(filelist_2016[idx[0]],month_paths[idx[0]],title,figure,YMIN=0.95,YMAX=1.05)"
   ]
  },
  {
   "cell_type": "markdown",
   "metadata": {},
   "source": [
    "## B) Plot for all month the average transparency"
   ]
  },
  {
   "cell_type": "code",
   "execution_count": null,
   "metadata": {
    "collapsed": false
   },
   "outputs": [],
   "source": [
    "def PlotAirTransparencyAllMonth(filelist,title_name,fig_name,YMIN=0,YMAX=1):\n",
    "    \"\"\"\n",
    "    PlotAirTransparencyAllMonth(filelist,title_name,fig_name,YMIN=0,YMAX=1)\n",
    "    =======================================================================\n",
    "    \n",
    "    input:\n",
    "    ------\n",
    "        filelist\n",
    "        title_name\n",
    "        fig_name\n",
    "    output:\n",
    "    ------\n",
    "    \n",
    "    \n",
    "    \"\"\"\n",
    "    plt.figure(figsize=(15, 6))\n",
    "    idx=0\n",
    "    for filename in filelist:\n",
    "        data = np.loadtxt(filename)\n",
    "        x=data[:,0]\n",
    "        y=data[:,1]    \n",
    "        plt.plot(x,y,'-',linewidth=0.5,label=months_y2016[idx]) \n",
    "        idx=idx+1\n",
    "    \n",
    "    plt.xlim(200,1200)\n",
    "    plt.ylim(YMIN,YMAX)\n",
    "    plt.xlabel('$\\lambda$ (nm)')\n",
    "    plt.ylabel('Air transparency')  \n",
    "    plt.legend(loc=3)\n",
    "    plt.title(title_name)\n",
    "    plt.savefig(fig_name)"
   ]
  },
  {
   "cell_type": "code",
   "execution_count": null,
   "metadata": {
    "collapsed": true
   },
   "outputs": [],
   "source": [
    "def PlotRatioAirTransparencyAllMonth(filelist,aver,title_name,fig_name,YMIN=0,YMAX=1):\n",
    "    \"\"\"\n",
    "    PlotRatioAirTransparencyAllMonth(filelist,average,title_name,fig_name,YMIN=0,YMAX=1)\n",
    "    =======================================================================\n",
    "    \n",
    "    input:\n",
    "    ------\n",
    "        filelist\n",
    "        title_name\n",
    "        fig_name\n",
    "    output:\n",
    "    ------\n",
    "    \n",
    "    \n",
    "    \"\"\"\n",
    "    plt.figure(figsize=(15, 6))\n",
    "    idx=0\n",
    "    for filename in filelist:\n",
    "        data = np.loadtxt(filename)\n",
    "        x=data[:,0]\n",
    "        y=data[:,1] \n",
    "        wl=np.array(x)\n",
    "        ratio=np.array(y)/aver\n",
    "        plt.plot(wl,ratio,'-',linewidth=0.5,label=months_y2016[idx]) \n",
    "        idx=idx+1\n",
    "    \n",
    "    plt.xlim(200,1200)\n",
    "    plt.ylim(YMIN,YMAX)\n",
    "    plt.xlabel('$\\lambda$ (nm)')\n",
    "    plt.ylabel('Air transparency Ratio')  \n",
    "    plt.legend(loc=3)\n",
    "    plt.title(title_name)\n",
    "    plt.savefig(fig_name)"
   ]
  },
  {
   "cell_type": "code",
   "execution_count": null,
   "metadata": {
    "collapsed": true
   },
   "outputs": [],
   "source": [
    "def GetAirTransparencyAverageAllMonth(filelist):\n",
    "    \"\"\"\n",
    "    GetAirTransparencyAverageAllMonth(filelist)\n",
    "    ===========================================\n",
    "    \n",
    "    input:\n",
    "    ------\n",
    "        filelist\n",
    "        \n",
    "    output:\n",
    "    --------\n",
    "    \n",
    "    \"\"\"\n",
    "    idx=0\n",
    "    for filename in filelist:\n",
    "        data = np.loadtxt(filename)\n",
    "        x=data[:,0]\n",
    "        y=data[:,1]\n",
    "        if idx==0:\n",
    "            wl=np.array(x)\n",
    "            sum=np.array(y)\n",
    "        else:\n",
    "            sum=sum+np.array(y)      \n",
    "        idx=idx+1\n",
    "        \n",
    "    aver=sum/float(idx)\n",
    "    return (wl,aver)"
   ]
  },
  {
   "cell_type": "code",
   "execution_count": null,
   "metadata": {
    "collapsed": false
   },
   "outputs": [],
   "source": []
  },
  {
   "cell_type": "code",
   "execution_count": null,
   "metadata": {
    "collapsed": false
   },
   "outputs": [],
   "source": [
    "selectedfiles = []\n",
    "for idx,month in np.ndenumerate(months_y2016):\n",
    "    filelistrootpath=os.listdir(month_paths[idx[0]]) \n",
    "    for filename in filelistrootpath:\n",
    "        if re.search(airmass_selection,filename) and re.search('aver',filename):  #example of filename filter\n",
    "            fullfilename=os.path.join(month_paths[idx[0]],filename)\n",
    "            selectedfiles.append(fullfilename) "
   ]
  },
  {
   "cell_type": "code",
   "execution_count": null,
   "metadata": {
    "collapsed": false
   },
   "outputs": [],
   "source": []
  },
  {
   "cell_type": "code",
   "execution_count": null,
   "metadata": {
    "collapsed": false
   },
   "outputs": [],
   "source": [
    "title='Air Transparency '+airmass_sel_tag[airmass_selection]\n",
    "figure='AirTransp_H2O_Y2016_Mall'+'_sa'+'.jpg'\n",
    "PlotAirTransparencyAllMonth(selectedfiles,title,figure,YMIN=0.2,YMAX=1)\n"
   ]
  },
  {
   "cell_type": "code",
   "execution_count": null,
   "metadata": {
    "collapsed": false
   },
   "outputs": [],
   "source": [
    "title='Air Transparency '+airmass_sel_tag[airmass_selection]\n",
    "figure='AirTransp_O3_Y2016_Mall'+'_sa'+'.jpg'\n",
    "PlotAirTransparencyAllMonth(selectedfiles,title,figure,YMIN=0.5,YMAX=1)\n",
    "\n"
   ]
  },
  {
   "cell_type": "code",
   "execution_count": null,
   "metadata": {
    "collapsed": false
   },
   "outputs": [],
   "source": [
    "(wl, aver)=GetAirTransparencyAverageAllMonth(selectedfiles)"
   ]
  },
  {
   "cell_type": "code",
   "execution_count": null,
   "metadata": {
    "collapsed": false
   },
   "outputs": [],
   "source": [
    "title='Air Transparency Ratio '+airmass_sel_tag[airmass_selection]\n",
    "figure='RAirTransp_H2O_Y2016_Mall'+'_sa'+'.jpg'\n",
    "PlotRatioAirTransparencyAllMonth(selectedfiles,aver,title,figure,YMIN=0.8,YMAX=1.2)"
   ]
  },
  {
   "cell_type": "code",
   "execution_count": null,
   "metadata": {
    "collapsed": false
   },
   "outputs": [],
   "source": [
    "title='Air Transparency Ratio '+airmass_sel_tag[airmass_selection]\n",
    "figure='RAirTransp_O3_Y2016_Mall'+'_sa'+'.jpg'\n",
    "PlotRatioAirTransparencyAllMonth(selectedfiles,aver,title,figure,YMIN=0.98,YMAX=1.02)"
   ]
  },
  {
   "cell_type": "code",
   "execution_count": null,
   "metadata": {
    "collapsed": true
   },
   "outputs": [],
   "source": []
  }
 ],
 "metadata": {
  "anaconda-cloud": {},
  "kernelspec": {
   "display_name": "Python 2",
   "language": "python",
   "name": "python2"
  },
  "language_info": {
   "codemirror_mode": {
    "name": "ipython",
    "version": 2
   },
   "file_extension": ".py",
   "mimetype": "text/x-python",
   "name": "python",
   "nbconvert_exporter": "python",
   "pygments_lexer": "ipython2",
   "version": "2.7.12"
  }
 },
 "nbformat": 4,
 "nbformat_minor": 0
}
