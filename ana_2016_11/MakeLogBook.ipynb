{
 "cells": [
  {
   "cell_type": "markdown",
   "metadata": {},
   "source": [
    "# Make Logbook of Trim images of CTIO Data\n",
    "==================================================================================================\n",
    "\n",
    "- author : Sylvie Dagoret-Campagne\n",
    "- date   : December 1st 2016\n",
    "\n",
    "- update : December 3rd 2016"
   ]
  },
  {
   "cell_type": "code",
   "execution_count": 8,
   "metadata": {
    "collapsed": false
   },
   "outputs": [],
   "source": [
    "%matplotlib inline\n",
    "import matplotlib.pyplot as plt\n",
    "import numpy as np\n",
    "\n",
    "from astropy.modeling import models\n",
    "from astropy import units as u\n",
    "from astropy import nddata\n",
    "from astropy.io import fits\n",
    "from astropy.table import Table, Column\n",
    "import re\n",
    "import os"
   ]
  },
  {
   "cell_type": "code",
   "execution_count": 9,
   "metadata": {
    "collapsed": true
   },
   "outputs": [],
   "source": [
    "import pandas as pd"
   ]
  },
  {
   "cell_type": "code",
   "execution_count": 10,
   "metadata": {
    "collapsed": false
   },
   "outputs": [],
   "source": [
    "# to enlarge the sizes\n",
    "params = {'legend.fontsize': 'x-large',\n",
    "          'figure.figsize': (8, 8),\n",
    "         'axes.labelsize': 'x-large',\n",
    "         'axes.titlesize':'x-large',\n",
    "         'xtick.labelsize':'x-large',\n",
    "         'ytick.labelsize':'x-large'}\n",
    "plt.rcParams.update(params)"
   ]
  },
  {
   "cell_type": "markdown",
   "metadata": {},
   "source": [
    "## Location of trim images\n",
    "----------------------------------"
   ]
  },
  {
   "cell_type": "code",
   "execution_count": 11,
   "metadata": {
    "collapsed": true
   },
   "outputs": [],
   "source": [
    "#rootpath_rawimage=\"/Users/dagoret-campagnesylvie/MacOsX/LSST/MyWork/GitHub/CTIOData2016/November2016/HD14943\"\n",
    "#object_name='HD14943'"
   ]
  },
  {
   "cell_type": "code",
   "execution_count": 12,
   "metadata": {
    "collapsed": true
   },
   "outputs": [],
   "source": [
    "rootpath_rawimage=\"/Users/dagoret-campagnesylvie/MacOsX/LSST/MyWork/GitHub/CTIOData2016/November2016/mucol\"\n",
    "object_name='mucol'\n",
    "infos='ctioNov2016'"
   ]
  },
  {
   "cell_type": "code",
   "execution_count": 13,
   "metadata": {
    "collapsed": true
   },
   "outputs": [],
   "source": [
    "logfile='logbk_'+object_name+'_'+infos+'.fits'"
   ]
  },
  {
   "cell_type": "code",
   "execution_count": 14,
   "metadata": {
    "collapsed": false
   },
   "outputs": [],
   "source": [
    "dirlist_all=os.listdir(rootpath_rawimage) "
   ]
  },
  {
   "cell_type": "code",
   "execution_count": 15,
   "metadata": {
    "collapsed": false
   },
   "outputs": [
    {
     "data": {
      "text/plain": [
       "['2016_11_23T04_03_03',\n",
       " '2016_11_23T04_04_27',\n",
       " '2016_11_23T04_05_50',\n",
       " '2016_11_24T02_11_53',\n",
       " '2016_11_24T02_13_06',\n",
       " '2016_11_24T02_14_20',\n",
       " '2016_11_24T02_28_42',\n",
       " '2016_11_24T02_29_55',\n",
       " '2016_11_24T02_31_09',\n",
       " '2016_11_24T03_43_50',\n",
       " '2016_11_24T03_45_03',\n",
       " '2016_11_24T03_46_17',\n",
       " '2016_11_24T04_01_50',\n",
       " '2016_11_24T04_03_04',\n",
       " '2016_11_24T04_04_17',\n",
       " '2016_11_24T05_37_07',\n",
       " '2016_11_24T05_38_20',\n",
       " '2016_11_24T05_39_34',\n",
       " '2016_11_24T05_55_27',\n",
       " '2016_11_24T05_56_40',\n",
       " '2016_11_24T05_57_54',\n",
       " '2016_11_25T01_35_37',\n",
       " '2016_11_25T01_36_50',\n",
       " '2016_11_25T01_38_04',\n",
       " '2016_11_25T01_51_34',\n",
       " '2016_11_25T01_52_47',\n",
       " '2016_11_25T01_54_00',\n",
       " '2016_11_25T03_12_27',\n",
       " '2016_11_25T03_13_41',\n",
       " '2016_11_25T03_14_54',\n",
       " '2016_11_25T03_28_25',\n",
       " '2016_11_25T03_29_38',\n",
       " '2016_11_25T03_30_52',\n",
       " '2016_11_25T04_43_25',\n",
       " '2016_11_25T04_44_39',\n",
       " '2016_11_25T04_45_52',\n",
       " '2016_11_25T04_59_22',\n",
       " '2016_11_25T05_00_36',\n",
       " '2016_11_25T05_01_49',\n",
       " '2016_11_25T05_59_13',\n",
       " '2016_11_25T06_00_27',\n",
       " '2016_11_25T06_01_41',\n",
       " '2016_11_25T06_15_11',\n",
       " '2016_11_25T06_16_24',\n",
       " '2016_11_25T06_17_38',\n",
       " '2016_11_25T06_34_41',\n",
       " '2016_11_25T06_35_54',\n",
       " '2016_11_25T06_37_08',\n",
       " '2016_11_25T06_50_37',\n",
       " '2016_11_25T06_51_51',\n",
       " '2016_11_25T06_53_05',\n",
       " '2016_11_26T01_44_36',\n",
       " '2016_11_26T01_45_49',\n",
       " '2016_11_26T01_47_02',\n",
       " '2016_11_26T03_24_32',\n",
       " '2016_11_26T03_25_45',\n",
       " '2016_11_26T03_26_59',\n",
       " '2016_11_26T03_40_29',\n",
       " '2016_11_26T03_41_43',\n",
       " '2016_11_26T03_42_56',\n",
       " '2016_11_26T04_21_45',\n",
       " '2016_11_26T04_22_58',\n",
       " '2016_11_26T04_24_12',\n",
       " '2016_11_26T04_37_42',\n",
       " '2016_11_26T04_38_56',\n",
       " '2016_11_26T04_40_09',\n",
       " '2016_11_26T04_54_02',\n",
       " '2016_11_26T04_55_15',\n",
       " '2016_11_26T04_56_29',\n",
       " '2016_11_26T05_09_59',\n",
       " '2016_11_26T05_11_13',\n",
       " '2016_11_26T05_12_26']"
      ]
     },
     "execution_count": 15,
     "metadata": {},
     "output_type": "execute_result"
    }
   ],
   "source": [
    "dirlist_all.remove('.DS_Store') # reove that file in a mAC\n",
    "dirlist_all"
   ]
  },
  {
   "cell_type": "code",
   "execution_count": 16,
   "metadata": {
    "collapsed": false
   },
   "outputs": [],
   "source": [
    "index=0\n",
    "indexes_files= []\n",
    "filelist_fitsimages= []\n",
    "for dir in dirlist_all: # loop on directories, one per image       \n",
    "        dir_leaf= rootpath_rawimage+'/'+dir # build the name of leaf directory\n",
    "        listfiles=os.listdir(dir_leaf) \n",
    "        for filename in listfiles:\n",
    "            if re.search('^calibrated.*fits.gz$',filename):  #example of filename filter\n",
    "                index=index+1\n",
    "                shortfilename=dir_leaf+'/'+filename\n",
    "                filelist_fitsimages.append(shortfilename)\n",
    "                indexes_files.append(index)"
   ]
  },
  {
   "cell_type": "markdown",
   "metadata": {
    "collapsed": false
   },
   "source": [
    "### Build tables for output file"
   ]
  },
  {
   "cell_type": "code",
   "execution_count": null,
   "metadata": {
    "collapsed": false
   },
   "outputs": [],
   "source": []
  },
  {
   "cell_type": "code",
   "execution_count": 17,
   "metadata": {
    "collapsed": false
   },
   "outputs": [],
   "source": [
    "all_headers = []\n",
    "all_dates = []\n",
    "all_airmass = []\n",
    "all_exposures = []\n",
    "all_ut = []\n",
    "all_ra = []\n",
    "all_dec = []\n",
    "all_epoch = []\n",
    "all_zenith = []\n",
    "all_ha = []\n",
    "all_st = []\n",
    "all_alt = []\n",
    "all_focus = []\n",
    "all_temp = []\n",
    "all_press = []\n",
    "all_hum = []\n",
    "all_windsp = []\n",
    "all_seeing = []\n",
    "all_seeingam = []\n",
    "\n",
    "for idx,file in np.ndenumerate(filelist_fitsimages):   \n",
    "    hdu_list=fits.open(file)\n",
    "    header=hdu_list[0].header\n",
    "    date_obs = header['DATE-OBS']\n",
    "    airmass = float(header['AIRMASS'])\n",
    "    expo= float(header['EXPTIME'])\n",
    "    num=indexes_files[idx[0]]\n",
    "    all_dates.append(date_obs)\n",
    "    all_airmass.append(airmass)\n",
    "    all_headers.append(header)\n",
    "    all_exposures.append(expo)\n",
    "   \n",
    "    ut=header['UT']\n",
    "    ra=header['RA']\n",
    "    dec=header['DEC']\n",
    "    epoch=float(header['EPOCH'])\n",
    "    zd = float(header['ZD'])\n",
    "    ha = header['HA']\n",
    "    st = header['ST']\n",
    "    alt = float(header['ALT'])\n",
    "    fcl = float(header['TELFOCUS'])\n",
    "    temp= float(header['OUTTEMP'])\n",
    "    press= float(header['OUTPRESS'])\n",
    "    hum= float(header['OUTHUM'])\n",
    "    windsp=float(header['WNDSPEED'])\n",
    "    seeing=float(header['SEEING'])\n",
    "    seeingam=float(header['SAIRMASS'])\n",
    "    \n",
    "    all_ut.append(ut)\n",
    "    all_ra.append(ra)\n",
    "    all_dec.append(dec)\n",
    "    all_epoch.append(epoch)\n",
    "    all_zenith.append(zd)\n",
    "    all_ha.append(ha)\n",
    "    all_st.append(st)\n",
    "    all_alt.append(alt)\n",
    "    all_focus.append(fcl)\n",
    "    all_temp.append(temp)\n",
    "    all_press.append(press)\n",
    "    all_hum.append(hum)\n",
    "    all_windsp.append(windsp)\n",
    "    all_seeing.append(seeing)\n",
    "    all_seeingam.append(seeingam)\n",
    "\n",
    "    hdu_list.close()\n",
    "    "
   ]
  },
  {
   "cell_type": "markdown",
   "metadata": {},
   "source": [
    "## Build outputfile"
   ]
  },
  {
   "cell_type": "code",
   "execution_count": 18,
   "metadata": {
    "collapsed": false
   },
   "outputs": [],
   "source": [
    "col_airmass=np.array(all_airmass)\n",
    "col_number=np.array(indexes_files)\n",
    "col_date=np.array(all_dates)\n",
    "col_filename=np.array(dirlist_all)\n",
    "col_exposure=np.array(all_exposures)\n",
    "col_zenith=np.array(all_zenith)\n",
    "col_altitude=np.array(all_alt)\n",
    "col_temperature=np.array(all_temp)\n",
    "col_pressure=np.array(all_press)\n",
    "col_humidity=np.array(all_hum)\n",
    "col_windsp=np.array(all_windsp)\n",
    "col_seeing=np.array(all_seeing)\n"
   ]
  },
  {
   "cell_type": "code",
   "execution_count": 19,
   "metadata": {
    "collapsed": false
   },
   "outputs": [],
   "source": [
    "c1 = fits.Column(name='number', format='J', array=col_number)\n",
    "c2 = fits.Column(name='airmass', format='E', array=col_airmass)\n",
    "c3 = fits.Column(name='date', format='A50', array=col_date)\n",
    "c4 = fits.Column(name='filename', format='A30', array=col_filename)\n",
    "c5 = fits.Column(name='exposure', format='E', array=col_exposure) \n",
    "c6 = fits.Column(name='zenith', format='E', array=col_zenith) \n",
    "#c7 = fits.Column(name='altitude', format='E', array=col_altitude) \n",
    "c8 = fits.Column(name='temperature', format='E', array=col_temperature) \n",
    "c9 = fits.Column(name='pressure', format='E', array=col_pressure) \n",
    "c10 = fits.Column(name='humidity', format='E', array=col_humidity) \n",
    "c11 = fits.Column(name='windspeed', format='E', array=col_windsp) \n",
    "c12 = fits.Column(name='seeing', format='E', array=col_seeing) \n"
   ]
  },
  {
   "cell_type": "code",
   "execution_count": 20,
   "metadata": {
    "collapsed": true
   },
   "outputs": [],
   "source": [
    "tbhdu = fits.BinTableHDU.from_columns([c1, c2, c3, c4, c5,c6,c8,c9,c10,c11,c12])"
   ]
  },
  {
   "cell_type": "code",
   "execution_count": 21,
   "metadata": {
    "collapsed": false
   },
   "outputs": [],
   "source": [
    "tbhdu.writeto(logfile,clobber=True)"
   ]
  },
  {
   "cell_type": "markdown",
   "metadata": {},
   "source": [
    "## Convert into Table\n",
    "---------------------------"
   ]
  },
  {
   "cell_type": "code",
   "execution_count": 22,
   "metadata": {
    "collapsed": false
   },
   "outputs": [],
   "source": [
    "thetable= Table(tbhdu.data)"
   ]
  },
  {
   "cell_type": "code",
   "execution_count": 23,
   "metadata": {
    "collapsed": false
   },
   "outputs": [
    {
     "data": {
      "text/html": [
       "&lt;Table length=72&gt;\n",
       "<table id=\"table4487168400-672463\" class=\"table table-striped table-bordered table-condensed\">\n",
       "<thead><tr><th>number</th><th>airmass</th><th>date</th><th>filename</th><th>exposure</th><th>zenith</th><th>temperature</th><th>pressure</th><th>humidity</th><th>windspeed</th><th>seeing</th></tr></thead>\n",
       "<tr><td>1</td><td>1.146</td><td>2016-11-23T04:02:21.620</td><td>2016_11_23T04_03_03</td><td>40.0</td><td>29.306</td><td>7.5</td><td>775.0</td><td>70.0</td><td>3.9</td><td>1.945</td></tr>\n",
       "<tr><td>2</td><td>1.143</td><td>2016-11-23T04:03:45.142</td><td>2016_11_23T04_04_27</td><td>40.0</td><td>29.012</td><td>7.4</td><td>775.0</td><td>70.0</td><td>5.0</td><td>2.333</td></tr>\n",
       "<tr><td>3</td><td>1.14</td><td>2016-11-23T04:05:08.661</td><td>2016_11_23T04_05_50</td><td>40.0</td><td>28.718</td><td>7.3</td><td>775.0</td><td>70.0</td><td>4.9</td><td>1.772</td></tr>\n",
       "<tr><td>4</td><td>1.608</td><td>2016-11-24T02:11:21.323</td><td>2016_11_24T02_11_53</td><td>30.0</td><td>51.614</td><td>8.2</td><td>778.0</td><td>59.0</td><td>6.2</td><td>1.767</td></tr>\n",
       "<tr><td>5</td><td>1.599</td><td>2016-11-24T02:12:34.838</td><td>2016_11_24T02_13_06</td><td>30.0</td><td>51.363</td><td>8.1</td><td>778.0</td><td>60.0</td><td>5.6</td><td>2.083</td></tr>\n",
       "<tr><td>6</td><td>1.591</td><td>2016-11-24T02:13:48.347</td><td>2016_11_24T02_14_20</td><td>30.0</td><td>51.112</td><td>8.0</td><td>778.0</td><td>60.0</td><td>5.6</td><td>1.896</td></tr>\n",
       "<tr><td>7</td><td>1.498</td><td>2016-11-24T02:28:09.918</td><td>2016_11_24T02_28_42</td><td>30.0</td><td>48.161</td><td>8.1</td><td>778.0</td><td>60.0</td><td>8.7</td><td>2.26</td></tr>\n",
       "<tr><td>8</td><td>1.49</td><td>2016-11-24T02:29:23.432</td><td>2016_11_24T02_29_55</td><td>30.0</td><td>47.909</td><td>8.2</td><td>778.0</td><td>60.0</td><td>8.1</td><td>2.087</td></tr>\n",
       "<tr><td>9</td><td>1.483</td><td>2016-11-24T02:30:36.937</td><td>2016_11_24T02_31_09</td><td>30.0</td><td>47.656</td><td>8.2</td><td>778.0</td><td>60.0</td><td>8.6</td><td>2.258</td></tr>\n",
       "<tr><td>10</td><td>1.185</td><td>2016-11-24T03:43:18.316</td><td>2016_11_24T03_43_50</td><td>30.0</td><td>32.484</td><td>8.4</td><td>778.0</td><td>54.0</td><td>7.9</td><td>1.859</td></tr>\n",
       "<tr><td>11</td><td>1.182</td><td>2016-11-24T03:44:31.838</td><td>2016_11_24T03_45_03</td><td>30.0</td><td>32.226</td><td>8.4</td><td>778.0</td><td>54.0</td><td>7.0</td><td>2.226</td></tr>\n",
       "<tr><td>12</td><td>1.178</td><td>2016-11-24T03:45:45.350</td><td>2016_11_24T03_46_17</td><td>30.0</td><td>31.968</td><td>8.5</td><td>778.0</td><td>54.0</td><td>7.0</td><td>2.125</td></tr>\n",
       "<tr><td>13</td><td>1.14</td><td>2016-11-24T04:01:18.867</td><td>2016_11_24T04_01_50</td><td>30.0</td><td>28.687</td><td>8.3</td><td>777.0</td><td>53.0</td><td>3.7</td><td>1.914</td></tr>\n",
       "<tr><td>14</td><td>1.137</td><td>2016-11-24T04:02:32.379</td><td>2016_11_24T04_03_04</td><td>30.0</td><td>28.428</td><td>8.2</td><td>777.0</td><td>54.0</td><td>4.7</td><td>2.133</td></tr>\n",
       "<tr><td>15</td><td>1.134</td><td>2016-11-24T04:03:45.893</td><td>2016_11_24T04_04_17</td><td>30.0</td><td>28.17</td><td>8.2</td><td>777.0</td><td>54.0</td><td>4.7</td><td>1.964</td></tr>\n",
       "<tr><td>16</td><td>1.011</td><td>2016-11-24T05:36:35.121</td><td>2016_11_24T05_37_07</td><td>30.0</td><td>8.57</td><td>8.4</td><td>777.0</td><td>47.0</td><td>9.5</td><td>1.746</td></tr>\n",
       "<tr><td>17</td><td>1.011</td><td>2016-11-24T05:37:48.641</td><td>2016_11_24T05_38_20</td><td>30.0</td><td>8.316</td><td>8.4</td><td>777.0</td><td>47.0</td><td>10.6</td><td>1.904</td></tr>\n",
       "<tr><td>18</td><td>1.01</td><td>2016-11-24T05:39:02.153</td><td>2016_11_24T05_39_34</td><td>30.0</td><td>8.062</td><td>8.4</td><td>777.0</td><td>46.0</td><td>13.2</td><td>1.683</td></tr>\n",
       "<tr><td>19</td><td>1.004</td><td>2016-11-24T05:54:55.172</td><td>2016_11_24T05_55_27</td><td>30.0</td><td>4.862</td><td>8.4</td><td>777.0</td><td>47.0</td><td>9.4</td><td>1.865</td></tr>\n",
       "<tr><td>20</td><td>1.003</td><td>2016-11-24T05:56:08.693</td><td>2016_11_24T05_56_40</td><td>30.0</td><td>4.628</td><td>8.6</td><td>777.0</td><td>46.0</td><td>8.8</td><td>1.948</td></tr>\n",
       "<tr><td>21</td><td>1.003</td><td>2016-11-24T05:57:22.214</td><td>2016_11_24T05_57_54</td><td>30.0</td><td>4.396</td><td>8.5</td><td>777.0</td><td>46.0</td><td>8.4</td><td>2.157</td></tr>\n",
       "<tr><td>22</td><td>1.891</td><td>2016-11-25T01:35:05.016</td><td>2016_11_25T01_35_37</td><td>30.0</td><td>58.158</td><td>11.5</td><td>778.0</td><td>48.0</td><td>7.0</td><td>1.148</td></tr>\n",
       "<tr><td>23</td><td>1.878</td><td>2016-11-25T01:36:18.536</td><td>2016_11_25T01_36_50</td><td>30.0</td><td>57.911</td><td>11.5</td><td>778.0</td><td>48.0</td><td>5.0</td><td>1.227</td></tr>\n",
       "<tr><td>24</td><td>1.865</td><td>2016-11-25T01:37:32.059</td><td>2016_11_25T01_38_04</td><td>30.0</td><td>57.664</td><td>11.4</td><td>778.0</td><td>48.0</td><td>5.7</td><td>1.146</td></tr>\n",
       "<tr><td>25</td><td>1.737</td><td>2016-11-25T01:51:02.065</td><td>2016_11_25T01_51_34</td><td>30.0</td><td>54.932</td><td>11.2</td><td>778.0</td><td>50.0</td><td>5.9</td><td>1.064</td></tr>\n",
       "<tr><td>26</td><td>1.727</td><td>2016-11-25T01:52:15.405</td><td>2016_11_25T01_52_47</td><td>30.0</td><td>54.684</td><td>11.2</td><td>778.0</td><td>50.0</td><td>4.8</td><td>1.196</td></tr>\n",
       "<tr><td>27</td><td>1.716</td><td>2016-11-25T01:53:28.747</td><td>2016_11_25T01_54_00</td><td>30.0</td><td>54.435</td><td>11.2</td><td>778.0</td><td>50.0</td><td>7.5</td><td>1.09</td></tr>\n",
       "<tr><td>28</td><td>1.272</td><td>2016-11-25T03:11:55.525</td><td>2016_11_25T03_12_27</td><td>30.0</td><td>38.236</td><td>10.5</td><td>777.0</td><td>52.0</td><td>10.8</td><td>1.02</td></tr>\n",
       "<tr><td>29</td><td>1.268</td><td>2016-11-25T03:13:09.044</td><td>2016_11_25T03_13_41</td><td>30.0</td><td>37.98</td><td>10.5</td><td>777.0</td><td>52.0</td><td>9.3</td><td>0.941</td></tr>\n",
       "<tr><td>30</td><td>1.264</td><td>2016-11-25T03:14:22.563</td><td>2016_11_25T03_14_54</td><td>30.0</td><td>37.723</td><td>10.5</td><td>777.0</td><td>52.0</td><td>9.7</td><td>0.909</td></tr>\n",
       "<tr><td>31</td><td>1.219</td><td>2016-11-25T03:27:52.872</td><td>2016_11_25T03_28_25</td><td>30.0</td><td>34.894</td><td>10.3</td><td>777.0</td><td>53.0</td><td>10.4</td><td>0.941</td></tr>\n",
       "<tr><td>32</td><td>1.215</td><td>2016-11-25T03:29:06.392</td><td>2016_11_25T03_29_38</td><td>30.0</td><td>34.637</td><td>10.2</td><td>777.0</td><td>53.0</td><td>9.3</td><td>0.934</td></tr>\n",
       "<tr><td>33</td><td>1.211</td><td>2016-11-25T03:30:19.906</td><td>2016_11_25T03_30_52</td><td>30.0</td><td>34.379</td><td>10.2</td><td>777.0</td><td>53.0</td><td>10.1</td><td>0.917</td></tr>\n",
       "<tr><td>34</td><td>1.058</td><td>2016-11-25T04:42:53.570</td><td>2016_11_25T04_43_25</td><td>30.0</td><td>19.059</td><td>10.5</td><td>777.0</td><td>54.0</td><td>10.8</td><td>1.313</td></tr>\n",
       "<tr><td>35</td><td>1.056</td><td>2016-11-25T04:44:07.084</td><td>2016_11_25T04_44_39</td><td>30.0</td><td>18.799</td><td>10.6</td><td>777.0</td><td>54.0</td><td>13.6</td><td>1.292</td></tr>\n",
       "<tr><td>36</td><td>1.055</td><td>2016-11-25T04:45:20.601</td><td>2016_11_25T04_45_52</td><td>30.0</td><td>18.54</td><td>11.0</td><td>777.0</td><td>54.0</td><td>11.4</td><td>1.067</td></tr>\n",
       "<tr><td>37</td><td>1.039</td><td>2016-11-25T04:58:50.469</td><td>2016_11_25T04_59_22</td><td>30.0</td><td>15.685</td><td>11.3</td><td>777.0</td><td>48.0</td><td>17.0</td><td>0.921</td></tr>\n",
       "<tr><td>38</td><td>1.037</td><td>2016-11-25T05:00:03.991</td><td>2016_11_25T05_00_36</td><td>30.0</td><td>15.426</td><td>11.3</td><td>776.0</td><td>47.0</td><td>19.2</td><td>1.138</td></tr>\n",
       "<tr><td>39</td><td>1.036</td><td>2016-11-25T05:01:17.513</td><td>2016_11_25T05_01_49</td><td>30.0</td><td>15.167</td><td>11.3</td><td>777.0</td><td>46.0</td><td>19.2</td><td>1.242</td></tr>\n",
       "<tr><td>40</td><td>1.002</td><td>2016-11-25T05:58:41.815</td><td>2016_11_25T05_59_13</td><td>30.0</td><td>3.504</td><td>10.9</td><td>776.0</td><td>41.0</td><td>21.3</td><td>0.798</td></tr>\n",
       "<tr><td>41</td><td>1.002</td><td>2016-11-25T05:59:55.329</td><td>2016_11_25T06_00_27</td><td>30.0</td><td>3.304</td><td>10.8</td><td>776.0</td><td>42.0</td><td>21.8</td><td>0.911</td></tr>\n",
       "<tr><td>42</td><td>1.001</td><td>2016-11-25T06:01:08.854</td><td>2016_11_25T06_01_41</td><td>30.0</td><td>3.114</td><td>10.9</td><td>776.0</td><td>42.0</td><td>20.9</td><td>0.854</td></tr>\n",
       "<tr><td>43</td><td>1.001</td><td>2016-11-25T06:14:39.114</td><td>2016_11_25T06_15_11</td><td>30.0</td><td>2.311</td><td>10.8</td><td>776.0</td><td>39.0</td><td>21.8</td><td>0.967</td></tr>\n",
       "<tr><td>44</td><td>1.001</td><td>2016-11-25T06:15:52.629</td><td>2016_11_25T06_16_24</td><td>30.0</td><td>2.402</td><td>10.7</td><td>776.0</td><td>39.0</td><td>24.5</td><td>0.967</td></tr>\n",
       "<tr><td>45</td><td>1.001</td><td>2016-11-25T06:17:06.142</td><td>2016_11_25T06_17_38</td><td>30.0</td><td>2.518</td><td>10.6</td><td>776.0</td><td>39.0</td><td>22.3</td><td>0.967</td></tr>\n",
       "<tr><td>46</td><td>1.004</td><td>2016-11-25T06:34:09.220</td><td>2016_11_25T06_34_41</td><td>30.0</td><td>5.346</td><td>10.6</td><td>776.0</td><td>40.0</td><td>25.5</td><td>0.872</td></tr>\n",
       "<tr><td>47</td><td>1.005</td><td>2016-11-25T06:35:22.743</td><td>2016_11_25T06_35_54</td><td>30.0</td><td>5.586</td><td>10.7</td><td>776.0</td><td>39.0</td><td>25.3</td><td>0.872</td></tr>\n",
       "<tr><td>48</td><td>1.005</td><td>2016-11-25T06:36:36.256</td><td>2016_11_25T06_37_08</td><td>30.0</td><td>5.827</td><td>10.7</td><td>776.0</td><td>39.0</td><td>21.7</td><td>0.872</td></tr>\n",
       "<tr><td>49</td><td>1.011</td><td>2016-11-25T06:50:05.863</td><td>2016_11_25T06_50_37</td><td>30.0</td><td>8.571</td><td>10.7</td><td>776.0</td><td>36.0</td><td>25.5</td><td>0.872</td></tr>\n",
       "<tr><td>50</td><td>1.012</td><td>2016-11-25T06:51:19.376</td><td>2016_11_25T06_51_51</td><td>30.0</td><td>8.825</td><td>10.8</td><td>776.0</td><td>36.0</td><td>25.2</td><td>0.872</td></tr>\n",
       "<tr><td>51</td><td>1.013</td><td>2016-11-25T06:52:32.898</td><td>2016_11_25T06_53_05</td><td>30.0</td><td>9.079</td><td>10.6</td><td>776.0</td><td>36.0</td><td>22.7</td><td>0.872</td></tr>\n",
       "<tr><td>52</td><td>1.764</td><td>2016-11-26T01:44:03.823</td><td>2016_11_26T01_44_36</td><td>30.0</td><td>55.543</td><td>7.3</td><td>778.0</td><td>62.0</td><td>17.0</td><td>1.357</td></tr>\n",
       "<tr><td>53</td><td>1.753</td><td>2016-11-26T01:45:17.230</td><td>2016_11_26T01_45_49</td><td>30.0</td><td>55.295</td><td>7.2</td><td>778.0</td><td>62.0</td><td>13.9</td><td>1.22</td></tr>\n",
       "<tr><td>54</td><td>1.742</td><td>2016-11-26T01:46:30.741</td><td>2016_11_26T01_47_02</td><td>30.0</td><td>55.046</td><td>7.4</td><td>778.0</td><td>61.0</td><td>17.9</td><td>1.101</td></tr>\n",
       "<tr><td>55</td><td>1.219</td><td>2016-11-26T03:23:59.916</td><td>2016_11_26T03_24_32</td><td>30.0</td><td>34.882</td><td>7.8</td><td>778.0</td><td>50.0</td><td>19.5</td><td>0.952</td></tr>\n",
       "<tr><td>56</td><td>1.215</td><td>2016-11-26T03:25:13.430</td><td>2016_11_26T03_25_45</td><td>30.0</td><td>34.624</td><td>7.7</td><td>778.0</td><td>52.0</td><td>20.6</td><td>0.952</td></tr>\n",
       "<tr><td>57</td><td>1.211</td><td>2016-11-26T03:26:26.946</td><td>2016_11_26T03_26_59</td><td>30.0</td><td>34.368</td><td>7.6</td><td>778.0</td><td>53.0</td><td>23.7</td><td>0.952</td></tr>\n",
       "<tr><td>58</td><td>1.173</td><td>2016-11-26T03:39:57.520</td><td>2016_11_26T03_40_29</td><td>30.0</td><td>31.526</td><td>7.6</td><td>778.0</td><td>57.0</td><td>23.0</td><td>0.953</td></tr>\n",
       "<tr><td>59</td><td>1.17</td><td>2016-11-26T03:41:11.037</td><td>2016_11_26T03_41_43</td><td>30.0</td><td>31.269</td><td>7.6</td><td>778.0</td><td>58.0</td><td>17.9</td><td>0.972</td></tr>\n",
       "<tr><td>60</td><td>1.166</td><td>2016-11-26T03:42:24.552</td><td>2016_11_26T03_42_56</td><td>30.0</td><td>31.011</td><td>7.6</td><td>778.0</td><td>58.0</td><td>15.8</td><td>1.047</td></tr>\n",
       "<tr><td>61</td><td>1.085</td><td>2016-11-26T04:21:13.022</td><td>2016_11_26T04_21_45</td><td>30.0</td><td>22.814</td><td>7.4</td><td>778.0</td><td>62.0</td><td>15.7</td><td>0.779</td></tr>\n",
       "<tr><td>62</td><td>1.083</td><td>2016-11-26T04:22:26.541</td><td>2016_11_26T04_22_58</td><td>30.0</td><td>22.555</td><td>7.5</td><td>778.0</td><td>62.0</td><td>16.1</td><td>0.779</td></tr>\n",
       "<tr><td>63</td><td>1.081</td><td>2016-11-26T04:23:40.056</td><td>2016_11_26T04_24_12</td><td>30.0</td><td>22.295</td><td>7.4</td><td>778.0</td><td>63.0</td><td>16.9</td><td>0.779</td></tr>\n",
       "<tr><td>64</td><td>1.06</td><td>2016-11-26T04:37:10.628</td><td>2016_11_26T04_37_42</td><td>30.0</td><td>19.435</td><td>7.5</td><td>778.0</td><td>59.0</td><td>13.3</td><td>0.798</td></tr>\n",
       "<tr><td>65</td><td>1.059</td><td>2016-11-26T04:38:24.139</td><td>2016_11_26T04_38_56</td><td>30.0</td><td>19.176</td><td>7.8</td><td>778.0</td><td>59.0</td><td>17.2</td><td>0.798</td></tr>\n",
       "<tr><td>66</td><td>1.057</td><td>2016-11-26T04:39:37.651</td><td>2016_11_26T04_40_09</td><td>30.0</td><td>18.916</td><td>7.7</td><td>778.0</td><td>59.0</td><td>18.1</td><td>0.798</td></tr>\n",
       "<tr><td>67</td><td>1.04</td><td>2016-11-26T04:53:30.173</td><td>2016_11_26T04_54_02</td><td>30.0</td><td>15.98</td><td>7.9</td><td>778.0</td><td>49.0</td><td>24.8</td><td>1.272</td></tr>\n",
       "<tr><td>68</td><td>1.039</td><td>2016-11-26T04:54:43.679</td><td>2016_11_26T04_55_15</td><td>30.0</td><td>15.722</td><td>7.8</td><td>778.0</td><td>51.0</td><td>26.7</td><td>1.272</td></tr>\n",
       "<tr><td>69</td><td>1.037</td><td>2016-11-26T04:55:57.190</td><td>2016_11_26T04_56_29</td><td>30.0</td><td>15.463</td><td>7.8</td><td>778.0</td><td>51.0</td><td>24.4</td><td>1.055</td></tr>\n",
       "<tr><td>70</td><td>1.025</td><td>2016-11-26T05:09:27.622</td><td>2016_11_26T05_09_59</td><td>30.0</td><td>12.613</td><td>7.2</td><td>778.0</td><td>57.0</td><td>14.4</td><td>1.505</td></tr>\n",
       "<tr><td>71</td><td>1.024</td><td>2016-11-26T05:10:40.999</td><td>2016_11_26T05_11_13</td><td>30.0</td><td>12.356</td><td>7.4</td><td>778.0</td><td>57.0</td><td>21.0</td><td>1.601</td></tr>\n",
       "<tr><td>72</td><td>1.023</td><td>2016-11-26T05:11:54.370</td><td>2016_11_26T05_12_26</td><td>30.0</td><td>12.099</td><td>7.2</td><td>778.0</td><td>58.0</td><td>17.6</td><td>1.45</td></tr>\n",
       "</table><style>table.dataTable {clear: both; width: auto !important; margin: 0 !important;}\n",
       ".dataTables_info, .dataTables_length, .dataTables_filter, .dataTables_paginate{\n",
       "display: inline-block; margin-right: 1em; }\n",
       ".paginate_button { margin-right: 5px; }\n",
       "</style>\n",
       "<script>\n",
       "require.config({paths: {\n",
       "    datatables: 'https://cdn.datatables.net/1.10.9/js/jquery.dataTables.min'\n",
       "}});\n",
       "require([\"datatables\"], function(){\n",
       "    console.log(\"$('#table4487168400-672463').dataTable()\");\n",
       "    $('#table4487168400-672463').dataTable({\n",
       "        \"order\": [],\n",
       "        \"iDisplayLength\": 50,\n",
       "        \"aLengthMenu\": [[10, 25, 50, 100, 500, 1000, -1], [10, 25, 50, 100, 500, 1000, 'All']],\n",
       "        \"pagingType\": \"full_numbers\"\n",
       "    });\n",
       "});\n",
       "</script>\n"
      ],
      "text/plain": [
       "<IPython.core.display.HTML object>"
      ]
     },
     "execution_count": 23,
     "metadata": {},
     "output_type": "execute_result"
    }
   ],
   "source": [
    "thetable.show_in_notebook()"
   ]
  },
  {
   "cell_type": "markdown",
   "metadata": {},
   "source": [
    "## Read the logfile into a Table\n",
    "---------------------------------------"
   ]
  },
  {
   "cell_type": "code",
   "execution_count": 24,
   "metadata": {
    "collapsed": true
   },
   "outputs": [],
   "source": [
    "t = Table.read(logfile)"
   ]
  },
  {
   "cell_type": "code",
   "execution_count": 25,
   "metadata": {
    "collapsed": false
   },
   "outputs": [
    {
     "data": {
      "text/html": [
       "&lt;Table length=72&gt;\n",
       "<table id=\"table4499708368\">\n",
       "<thead><tr><th>number</th><th>airmass</th><th>date</th><th>filename</th><th>exposure</th><th>zenith</th><th>temperature</th><th>pressure</th><th>humidity</th><th>windspeed</th><th>seeing</th></tr></thead>\n",
       "<thead><tr><th>int32</th><th>float32</th><th>str50</th><th>str30</th><th>float32</th><th>float32</th><th>float32</th><th>float32</th><th>float32</th><th>float32</th><th>float32</th></tr></thead>\n",
       "<tr><td>1</td><td>1.146</td><td>2016-11-23T04:02:21.620</td><td>2016_11_23T04_03_03</td><td>40.0</td><td>29.306</td><td>7.5</td><td>775.0</td><td>70.0</td><td>3.9</td><td>1.945</td></tr>\n",
       "<tr><td>2</td><td>1.143</td><td>2016-11-23T04:03:45.142</td><td>2016_11_23T04_04_27</td><td>40.0</td><td>29.012</td><td>7.4</td><td>775.0</td><td>70.0</td><td>5.0</td><td>2.333</td></tr>\n",
       "<tr><td>3</td><td>1.14</td><td>2016-11-23T04:05:08.661</td><td>2016_11_23T04_05_50</td><td>40.0</td><td>28.718</td><td>7.3</td><td>775.0</td><td>70.0</td><td>4.9</td><td>1.772</td></tr>\n",
       "<tr><td>4</td><td>1.608</td><td>2016-11-24T02:11:21.323</td><td>2016_11_24T02_11_53</td><td>30.0</td><td>51.614</td><td>8.2</td><td>778.0</td><td>59.0</td><td>6.2</td><td>1.767</td></tr>\n",
       "<tr><td>5</td><td>1.599</td><td>2016-11-24T02:12:34.838</td><td>2016_11_24T02_13_06</td><td>30.0</td><td>51.363</td><td>8.1</td><td>778.0</td><td>60.0</td><td>5.6</td><td>2.083</td></tr>\n",
       "<tr><td>6</td><td>1.591</td><td>2016-11-24T02:13:48.347</td><td>2016_11_24T02_14_20</td><td>30.0</td><td>51.112</td><td>8.0</td><td>778.0</td><td>60.0</td><td>5.6</td><td>1.896</td></tr>\n",
       "<tr><td>7</td><td>1.498</td><td>2016-11-24T02:28:09.918</td><td>2016_11_24T02_28_42</td><td>30.0</td><td>48.161</td><td>8.1</td><td>778.0</td><td>60.0</td><td>8.7</td><td>2.26</td></tr>\n",
       "<tr><td>8</td><td>1.49</td><td>2016-11-24T02:29:23.432</td><td>2016_11_24T02_29_55</td><td>30.0</td><td>47.909</td><td>8.2</td><td>778.0</td><td>60.0</td><td>8.1</td><td>2.087</td></tr>\n",
       "<tr><td>9</td><td>1.483</td><td>2016-11-24T02:30:36.937</td><td>2016_11_24T02_31_09</td><td>30.0</td><td>47.656</td><td>8.2</td><td>778.0</td><td>60.0</td><td>8.6</td><td>2.258</td></tr>\n",
       "<tr><td>10</td><td>1.185</td><td>2016-11-24T03:43:18.316</td><td>2016_11_24T03_43_50</td><td>30.0</td><td>32.484</td><td>8.4</td><td>778.0</td><td>54.0</td><td>7.9</td><td>1.859</td></tr>\n",
       "<tr><td>...</td><td>...</td><td>...</td><td>...</td><td>...</td><td>...</td><td>...</td><td>...</td><td>...</td><td>...</td><td>...</td></tr>\n",
       "<tr><td>63</td><td>1.081</td><td>2016-11-26T04:23:40.056</td><td>2016_11_26T04_24_12</td><td>30.0</td><td>22.295</td><td>7.4</td><td>778.0</td><td>63.0</td><td>16.9</td><td>0.779</td></tr>\n",
       "<tr><td>64</td><td>1.06</td><td>2016-11-26T04:37:10.628</td><td>2016_11_26T04_37_42</td><td>30.0</td><td>19.435</td><td>7.5</td><td>778.0</td><td>59.0</td><td>13.3</td><td>0.798</td></tr>\n",
       "<tr><td>65</td><td>1.059</td><td>2016-11-26T04:38:24.139</td><td>2016_11_26T04_38_56</td><td>30.0</td><td>19.176</td><td>7.8</td><td>778.0</td><td>59.0</td><td>17.2</td><td>0.798</td></tr>\n",
       "<tr><td>66</td><td>1.057</td><td>2016-11-26T04:39:37.651</td><td>2016_11_26T04_40_09</td><td>30.0</td><td>18.916</td><td>7.7</td><td>778.0</td><td>59.0</td><td>18.1</td><td>0.798</td></tr>\n",
       "<tr><td>67</td><td>1.04</td><td>2016-11-26T04:53:30.173</td><td>2016_11_26T04_54_02</td><td>30.0</td><td>15.98</td><td>7.9</td><td>778.0</td><td>49.0</td><td>24.8</td><td>1.272</td></tr>\n",
       "<tr><td>68</td><td>1.039</td><td>2016-11-26T04:54:43.679</td><td>2016_11_26T04_55_15</td><td>30.0</td><td>15.722</td><td>7.8</td><td>778.0</td><td>51.0</td><td>26.7</td><td>1.272</td></tr>\n",
       "<tr><td>69</td><td>1.037</td><td>2016-11-26T04:55:57.190</td><td>2016_11_26T04_56_29</td><td>30.0</td><td>15.463</td><td>7.8</td><td>778.0</td><td>51.0</td><td>24.4</td><td>1.055</td></tr>\n",
       "<tr><td>70</td><td>1.025</td><td>2016-11-26T05:09:27.622</td><td>2016_11_26T05_09_59</td><td>30.0</td><td>12.613</td><td>7.2</td><td>778.0</td><td>57.0</td><td>14.4</td><td>1.505</td></tr>\n",
       "<tr><td>71</td><td>1.024</td><td>2016-11-26T05:10:40.999</td><td>2016_11_26T05_11_13</td><td>30.0</td><td>12.356</td><td>7.4</td><td>778.0</td><td>57.0</td><td>21.0</td><td>1.601</td></tr>\n",
       "<tr><td>72</td><td>1.023</td><td>2016-11-26T05:11:54.370</td><td>2016_11_26T05_12_26</td><td>30.0</td><td>12.099</td><td>7.2</td><td>778.0</td><td>58.0</td><td>17.6</td><td>1.45</td></tr>\n",
       "</table>"
      ],
      "text/plain": [
       "<Table length=72>\n",
       "number airmass           date          ... humidity windspeed  seeing\n",
       "int32  float32          str50          ... float32   float32  float32\n",
       "------ ------- ----------------------- ... -------- --------- -------\n",
       "     1   1.146 2016-11-23T04:02:21.620 ...     70.0       3.9   1.945\n",
       "     2   1.143 2016-11-23T04:03:45.142 ...     70.0       5.0   2.333\n",
       "     3    1.14 2016-11-23T04:05:08.661 ...     70.0       4.9   1.772\n",
       "     4   1.608 2016-11-24T02:11:21.323 ...     59.0       6.2   1.767\n",
       "     5   1.599 2016-11-24T02:12:34.838 ...     60.0       5.6   2.083\n",
       "     6   1.591 2016-11-24T02:13:48.347 ...     60.0       5.6   1.896\n",
       "     7   1.498 2016-11-24T02:28:09.918 ...     60.0       8.7    2.26\n",
       "     8    1.49 2016-11-24T02:29:23.432 ...     60.0       8.1   2.087\n",
       "     9   1.483 2016-11-24T02:30:36.937 ...     60.0       8.6   2.258\n",
       "    10   1.185 2016-11-24T03:43:18.316 ...     54.0       7.9   1.859\n",
       "   ...     ...                     ... ...      ...       ...     ...\n",
       "    63   1.081 2016-11-26T04:23:40.056 ...     63.0      16.9   0.779\n",
       "    64    1.06 2016-11-26T04:37:10.628 ...     59.0      13.3   0.798\n",
       "    65   1.059 2016-11-26T04:38:24.139 ...     59.0      17.2   0.798\n",
       "    66   1.057 2016-11-26T04:39:37.651 ...     59.0      18.1   0.798\n",
       "    67    1.04 2016-11-26T04:53:30.173 ...     49.0      24.8   1.272\n",
       "    68   1.039 2016-11-26T04:54:43.679 ...     51.0      26.7   1.272\n",
       "    69   1.037 2016-11-26T04:55:57.190 ...     51.0      24.4   1.055\n",
       "    70   1.025 2016-11-26T05:09:27.622 ...     57.0      14.4   1.505\n",
       "    71   1.024 2016-11-26T05:10:40.999 ...     57.0      21.0   1.601\n",
       "    72   1.023 2016-11-26T05:11:54.370 ...     58.0      17.6    1.45"
      ]
     },
     "execution_count": 25,
     "metadata": {},
     "output_type": "execute_result"
    }
   ],
   "source": [
    "t"
   ]
  },
  {
   "cell_type": "markdown",
   "metadata": {},
   "source": [
    "## Convert into pandas to plot\n",
    "---------------------------------------"
   ]
  },
  {
   "cell_type": "code",
   "execution_count": 26,
   "metadata": {
    "collapsed": true
   },
   "outputs": [],
   "source": [
    "df = t.to_pandas()"
   ]
  },
  {
   "cell_type": "code",
   "execution_count": 27,
   "metadata": {
    "collapsed": false
   },
   "outputs": [
    {
     "data": {
      "text/plain": [
       "<matplotlib.axes._subplots.AxesSubplot at 0x10c39e310>"
      ]
     },
     "execution_count": 27,
     "metadata": {},
     "output_type": "execute_result"
    },
    {
     "data": {
      "image/png": "[encoded data removed]",
      "text/plain": [
       "<matplotlib.figure.Figure at 0x10c381b90>"
      ]
     },
     "metadata": {},
     "output_type": "display_data"
    }
   ],
   "source": [
    "df.plot('date','airmass',figsize=(20,6),rot=45,grid=True,title='airmass vs date',color='b',linewidth=2)\n"
   ]
  },
  {
   "cell_type": "code",
   "execution_count": null,
   "metadata": {
    "collapsed": true
   },
   "outputs": [],
   "source": []
  }
 ],
 "metadata": {
  "kernelspec": {
   "display_name": "Python 2",
   "language": "python",
   "name": "python2"
  },
  "language_info": {
   "codemirror_mode": {
    "name": "ipython",
    "version": 2
   },
   "file_extension": ".py",
   "mimetype": "text/x-python",
   "name": "python",
   "nbconvert_exporter": "python",
   "pygments_lexer": "ipython2",
   "version": "2.7.12"
  }
 },
 "nbformat": 4,
 "nbformat_minor": 0
}
