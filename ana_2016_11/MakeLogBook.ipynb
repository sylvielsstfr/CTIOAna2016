{
 "cells": [
  {
   "cell_type": "markdown",
   "metadata": {},
   "source": [
    "# Make Logbook of Trim images of CTIO Data\n",
    "==================================================================================================\n",
    "\n",
    "- author : Sylvie Dagoret-Campagne\n",
    "- date   : December 1st 2016\n"
   ]
  },
  {
   "cell_type": "code",
   "execution_count": 3,
   "metadata": {
    "collapsed": false
   },
   "outputs": [],
   "source": [
    "%matplotlib inline\n",
    "import matplotlib.pyplot as plt\n",
    "import numpy as np\n",
    "\n",
    "from astropy.modeling import models\n",
    "from astropy import units as u\n",
    "from astropy import nddata\n",
    "from astropy.io import fits\n",
    "from astropy.table import Table, Column\n",
    "import re\n",
    "import os"
   ]
  },
  {
   "cell_type": "code",
   "execution_count": 4,
   "metadata": {
    "collapsed": true
   },
   "outputs": [],
   "source": [
    "import pandas as pd"
   ]
  },
  {
   "cell_type": "code",
   "execution_count": 5,
   "metadata": {
    "collapsed": false
   },
   "outputs": [],
   "source": [
    "# to enlarge the sizes\n",
    "params = {'legend.fontsize': 'x-large',\n",
    "          'figure.figsize': (8, 8),\n",
    "         'axes.labelsize': 'x-large',\n",
    "         'axes.titlesize':'x-large',\n",
    "         'xtick.labelsize':'x-large',\n",
    "         'ytick.labelsize':'x-large'}\n",
    "plt.rcParams.update(params)"
   ]
  },
  {
   "cell_type": "markdown",
   "metadata": {},
   "source": [
    "## Location of trim images\n",
    "----------------------------------"
   ]
  },
  {
   "cell_type": "code",
   "execution_count": 6,
   "metadata": {
    "collapsed": true
   },
   "outputs": [],
   "source": [
    "rootpath_rawimage=\"/Users/dagoret-campagnesylvie/MacOsX/LSST/MyWork/GitHub/CTIOData2016/November2016/HD14943\"\n",
    "object_name='HD14943'"
   ]
  },
  {
   "cell_type": "code",
   "execution_count": null,
   "metadata": {
    "collapsed": true
   },
   "outputs": [],
   "source": []
  },
  {
   "cell_type": "code",
   "execution_count": 7,
   "metadata": {
    "collapsed": false
   },
   "outputs": [],
   "source": [
    "dirlist_all=os.listdir(rootpath_rawimage) "
   ]
  },
  {
   "cell_type": "code",
   "execution_count": 12,
   "metadata": {
    "collapsed": false
   },
   "outputs": [
    {
     "data": {
      "text/plain": [
       "['2016_11_23T01_45_51',\n",
       " '2016_11_23T01_46_55',\n",
       " '2016_11_23T01_47_58',\n",
       " '2016_11_23T01_52_42',\n",
       " '2016_11_23T01_54_05',\n",
       " '2016_11_23T01_55_29',\n",
       " '2016_11_23T02_27_22',\n",
       " '2016_11_23T02_28_46',\n",
       " '2016_11_23T02_30_09',\n",
       " '2016_11_23T04_36_28',\n",
       " '2016_11_23T04_37_52',\n",
       " '2016_11_23T04_39_16',\n",
       " '2016_11_23T04_55_21',\n",
       " '2016_11_23T04_56_44',\n",
       " '2016_11_23T04_58_08',\n",
       " '2016_11_23T05_15_19',\n",
       " '2016_11_23T05_16_43',\n",
       " '2016_11_23T05_18_07',\n",
       " '2016_11_23T05_34_17',\n",
       " '2016_11_23T05_35_40',\n",
       " '2016_11_23T05_37_04',\n",
       " '2016_11_23T05_53_10',\n",
       " '2016_11_23T05_54_33',\n",
       " '2016_11_23T05_55_56',\n",
       " '2016_11_24T01_05_17',\n",
       " '2016_11_24T01_06_40',\n",
       " '2016_11_24T01_08_04',\n",
       " '2016_11_24T01_29_35',\n",
       " '2016_11_24T01_30_58',\n",
       " '2016_11_24T01_32_22',\n",
       " '2016_11_24T02_54_15',\n",
       " '2016_11_24T02_55_38',\n",
       " '2016_11_24T02_57_01',\n",
       " '2016_11_24T03_14_59',\n",
       " '2016_11_24T03_16_23',\n",
       " '2016_11_24T03_17_46',\n",
       " '2016_11_24T04_38_18',\n",
       " '2016_11_24T04_39_41',\n",
       " '2016_11_24T04_41_05',\n",
       " '2016_11_24T04_58_54',\n",
       " '2016_11_24T05_00_17',\n",
       " '2016_11_24T05_01_41',\n",
       " '2016_11_24T06_23_22',\n",
       " '2016_11_24T06_24_46',\n",
       " '2016_11_24T06_26_09',\n",
       " '2016_11_24T06_46_00',\n",
       " '2016_11_24T06_47_24',\n",
       " '2016_11_24T06_48_47',\n",
       " '2016_11_25T00_50_46',\n",
       " '2016_11_25T00_52_10',\n",
       " '2016_11_25T00_53_33',\n",
       " '2016_11_25T01_09_14',\n",
       " '2016_11_25T01_10_37',\n",
       " '2016_11_25T01_12_01',\n",
       " '2016_11_25T02_12_43',\n",
       " '2016_11_25T02_14_06',\n",
       " '2016_11_25T02_15_30',\n",
       " '2016_11_25T02_31_10',\n",
       " '2016_11_25T02_32_33',\n",
       " '2016_11_25T02_33_57',\n",
       " '2016_11_25T03_57_51',\n",
       " '2016_11_25T03_59_14',\n",
       " '2016_11_25T04_00_38',\n",
       " '2016_11_25T04_16_18',\n",
       " '2016_11_25T04_17_41',\n",
       " '2016_11_25T04_19_05',\n",
       " '2016_11_25T05_18_37',\n",
       " '2016_11_25T05_20_00',\n",
       " '2016_11_25T05_21_24',\n",
       " '2016_11_25T05_37_04',\n",
       " '2016_11_25T05_38_27',\n",
       " '2016_11_25T05_39_51',\n",
       " '2016_11_26T00_23_23',\n",
       " '2016_11_26T00_24_46',\n",
       " '2016_11_26T00_26_10',\n",
       " '2016_11_26T00_41_50',\n",
       " '2016_11_26T00_43_14',\n",
       " '2016_11_26T00_44_37',\n",
       " '2016_11_26T01_05_02',\n",
       " '2016_11_26T01_06_26',\n",
       " '2016_11_26T01_07_49',\n",
       " '2016_11_26T01_23_29',\n",
       " '2016_11_26T01_24_53',\n",
       " '2016_11_26T01_26_16',\n",
       " '2016_11_26T02_26_36',\n",
       " '2016_11_26T02_27_59',\n",
       " '2016_11_26T02_29_23',\n",
       " '2016_11_26T02_45_03',\n",
       " '2016_11_26T02_46_27',\n",
       " '2016_11_26T02_47_50',\n",
       " '2016_11_26T04_00_57',\n",
       " '2016_11_26T04_02_21',\n",
       " '2016_11_26T04_03_44',\n",
       " '2016_11_26T05_35_47',\n",
       " '2016_11_26T05_37_10',\n",
       " '2016_11_26T05_38_34',\n",
       " '2016_11_26T05_54_14',\n",
       " '2016_11_26T05_55_37',\n",
       " '2016_11_26T05_57_01',\n",
       " '2016_11_26T06_12_59',\n",
       " '2016_11_26T06_14_23',\n",
       " '2016_11_26T06_15_46',\n",
       " '2016_11_26T06_31_27',\n",
       " '2016_11_26T06_32_50',\n",
       " '2016_11_26T06_34_13',\n",
       " '2016_11_26T06_50_00',\n",
       " '2016_11_26T06_51_23',\n",
       " '2016_11_26T06_52_47',\n",
       " '2016_11_26T07_08_27',\n",
       " '2016_11_26T07_09_50',\n",
       " '2016_11_26T07_11_14',\n",
       " '2016_11_26T07_28_24',\n",
       " '2016_11_26T07_29_47',\n",
       " '2016_11_26T07_31_11',\n",
       " '2016_11_26T07_46_49',\n",
       " '2016_11_26T07_48_13',\n",
       " '2016_11_26T07_49_36']"
      ]
     },
     "execution_count": 12,
     "metadata": {},
     "output_type": "execute_result"
    }
   ],
   "source": [
    "dirlist_all.remove('.DS_Store') # reove that file in a mAC\n",
    "dirlist_all"
   ]
  },
  {
   "cell_type": "code",
   "execution_count": 13,
   "metadata": {
    "collapsed": false
   },
   "outputs": [],
   "source": [
    "logfile='logbk_'+object_name+'.fits'"
   ]
  },
  {
   "cell_type": "code",
   "execution_count": 21,
   "metadata": {
    "collapsed": false
   },
   "outputs": [],
   "source": [
    "index=0\n",
    "indexes_files= []\n",
    "filelist_fitsimages= []\n",
    "for dir in dirlist_all: # loop on directories, one per image       \n",
    "        dir_leaf= rootpath_rawimage+'/'+dir # build the name of leaf directory\n",
    "        listfiles=os.listdir(dir_leaf) \n",
    "        for filename in listfiles:\n",
    "            if re.search('^calibrated.*fits.gz$',filename):  #example of filename filter\n",
    "                index=index+1\n",
    "                shortfilename=dir_leaf+'/'+filename\n",
    "                filelist_fitsimages.append(shortfilename)\n",
    "                indexes_files.append(index)"
   ]
  },
  {
   "cell_type": "markdown",
   "metadata": {
    "collapsed": false
   },
   "source": [
    "### Build tables for output file"
   ]
  },
  {
   "cell_type": "code",
   "execution_count": null,
   "metadata": {
    "collapsed": false
   },
   "outputs": [],
   "source": []
  },
  {
   "cell_type": "code",
   "execution_count": 28,
   "metadata": {
    "collapsed": false
   },
   "outputs": [],
   "source": [
    "all_headers = []\n",
    "all_dates = []\n",
    "all_airmass = []\n",
    "all_exposures = []\n",
    "all_ut = []\n",
    "all_ra = []\n",
    "all_dec = []\n",
    "all_epoch = []\n",
    "all_zenith = []\n",
    "all_ha = []\n",
    "all_st = []\n",
    "all_alt = []\n",
    "all_focus = []\n",
    "all_temp = []\n",
    "all_press = []\n",
    "all_hum = []\n",
    "all_windsp = []\n",
    "all_seeing = []\n",
    "all_seeingam = []\n",
    "\n",
    "for idx,file in np.ndenumerate(filelist_fitsimages):   \n",
    "    hdu_list=fits.open(file)\n",
    "    header=hdu_list[0].header\n",
    "    date_obs = header['DATE-OBS']\n",
    "    airmass = float(header['AIRMASS'])\n",
    "    expo= float(header['EXPTIME'])\n",
    "    num=indexes_files[idx[0]]\n",
    "    all_dates.append(date_obs)\n",
    "    all_airmass.append(airmass)\n",
    "    all_headers.append(header)\n",
    "    all_exposures.append(expo)\n",
    "   \n",
    "    ut=header['UT']\n",
    "    ra=header['RA']\n",
    "    dec=header['DEC']\n",
    "    epoch=float(header['EPOCH'])\n",
    "    zd = float(header['ZD'])\n",
    "    ha = header['HA']\n",
    "    st = header['ST']\n",
    "    alt = float(header['ALT'])\n",
    "    fcl = float(header['TELFOCUS'])\n",
    "    temp= float(header['OUTTEMP'])\n",
    "    press= float(header['OUTPRESS'])\n",
    "    hum= float(header['OUTHUM'])\n",
    "    windsp=float(header['WNDSPEED'])\n",
    "    seeing=float(header['SEEING'])\n",
    "    seeingam=float(header['SAIRMASS'])\n",
    "    \n",
    "    all_ut.append(ut)\n",
    "    all_ra.append(ra)\n",
    "    all_dec.append(dec)\n",
    "    all_epoch.append(epoch)\n",
    "    all_zenith.append(zd)\n",
    "    all_ha.append(ha)\n",
    "    all_st.append(st)\n",
    "    all_alt.append(alt)\n",
    "    all_focus.append(fcl)\n",
    "    all_temp.append(temp)\n",
    "    all_press.append(press)\n",
    "    all_hum.append(hum)\n",
    "    all_windsp.append(windsp)\n",
    "    all_seeing.append(seeing)\n",
    "    all_seeingam.append(seeingam)\n",
    "\n",
    "    hdu_list.close()\n",
    "    "
   ]
  },
  {
   "cell_type": "markdown",
   "metadata": {},
   "source": [
    "## Build outputfile"
   ]
  },
  {
   "cell_type": "code",
   "execution_count": 31,
   "metadata": {
    "collapsed": false
   },
   "outputs": [],
   "source": [
    "col_airmass=np.array(all_airmass)\n",
    "col_number=np.array(indexes_files)\n",
    "col_date=np.array(all_dates)\n",
    "col_filename=np.array(dirlist_all)\n",
    "col_exposure=np.array(all_exposures)\n",
    "col_zenith=np.array(all_zenith)\n",
    "col_altitude=np.array(all_alt)\n",
    "col_temperature=np.array(all_temp)\n",
    "col_pressure=np.array(all_press)\n",
    "col_humidity=np.array(all_hum)\n",
    "col_windsp=np.array(all_windsp)\n",
    "col_seeing=np.array(all_seeing)\n"
   ]
  },
  {
   "cell_type": "code",
   "execution_count": 32,
   "metadata": {
    "collapsed": false
   },
   "outputs": [],
   "source": [
    "c1 = fits.Column(name='number', format='J', array=col_number)\n",
    "c2 = fits.Column(name='airmass', format='E', array=col_airmass)\n",
    "c3 = fits.Column(name='date', format='A50', array=col_date)\n",
    "c4 = fits.Column(name='filename', format='A30', array=col_filename)\n",
    "c5 = fits.Column(name='exposure', format='E', array=col_exposure) \n",
    "c6 = fits.Column(name='zenith', format='E', array=col_zenith) \n",
    "#c7 = fits.Column(name='altitude', format='E', array=col_altitude) \n",
    "c8 = fits.Column(name='temperature', format='E', array=col_temperature) \n",
    "c9 = fits.Column(name='pressure', format='E', array=col_pressure) \n",
    "c10 = fits.Column(name='humidity', format='E', array=col_humidity) \n",
    "c11 = fits.Column(name='windspeed', format='E', array=col_windsp) \n",
    "c12 = fits.Column(name='seeing', format='E', array=col_seeing) \n"
   ]
  },
  {
   "cell_type": "code",
   "execution_count": 33,
   "metadata": {
    "collapsed": true
   },
   "outputs": [],
   "source": [
    "tbhdu = fits.BinTableHDU.from_columns([c1, c2, c3, c4, c5,c6,c8,c9,c10,c11,c12])"
   ]
  },
  {
   "cell_type": "code",
   "execution_count": 34,
   "metadata": {
    "collapsed": false
   },
   "outputs": [],
   "source": [
    "tbhdu.writeto(logfile,clobber=True)"
   ]
  },
  {
   "cell_type": "markdown",
   "metadata": {},
   "source": [
    "## Convert into Table\n",
    "---------------------------"
   ]
  },
  {
   "cell_type": "code",
   "execution_count": 35,
   "metadata": {
    "collapsed": false
   },
   "outputs": [],
   "source": [
    "thetable= Table(tbhdu.data)"
   ]
  },
  {
   "cell_type": "code",
   "execution_count": 36,
   "metadata": {
    "collapsed": false
   },
   "outputs": [
    {
     "data": {
      "text/html": [
       "&lt;Table length=117&gt;\n",
       "<table id=\"table4486922832-732992\" class=\"table table-striped table-bordered table-condensed\">\n",
       "<thead><tr><th>number</th><th>airmass</th><th>date</th><th>filename</th><th>exposure</th><th>zenith</th><th>temperature</th><th>pressure</th><th>humidity</th><th>windspeed</th><th>seeing</th></tr></thead>\n",
       "<tr><td>1</td><td>1.101</td><td>2016-11-23T01:45:29.665</td><td>2016_11_23T01_45_51</td><td>20.0</td><td>24.718</td><td>9.0</td><td>776.0</td><td>64.0</td><td>5.4</td><td>1.522</td></tr>\n",
       "<tr><td>2</td><td>1.1</td><td>2016-11-23T01:46:33.179</td><td>2016_11_23T01_46_55</td><td>20.0</td><td>24.613</td><td>9.0</td><td>776.0</td><td>64.0</td><td>6.6</td><td>1.371</td></tr>\n",
       "<tr><td>3</td><td>1.099</td><td>2016-11-23T01:47:36.699</td><td>2016_11_23T01_47_58</td><td>20.0</td><td>24.509</td><td>9.0</td><td>776.0</td><td>64.0</td><td>7.8</td><td>1.399</td></tr>\n",
       "<tr><td>4</td><td>1.095</td><td>2016-11-23T01:52:00.166</td><td>2016_11_23T01_52_42</td><td>40.0</td><td>24.09</td><td>8.9</td><td>776.0</td><td>64.0</td><td>5.0</td><td>1.357</td></tr>\n",
       "<tr><td>5</td><td>1.094</td><td>2016-11-23T01:53:23.679</td><td>2016_11_23T01_54_05</td><td>40.0</td><td>23.961</td><td>8.9</td><td>776.0</td><td>64.0</td><td>4.5</td><td>1.304</td></tr>\n",
       "<tr><td>6</td><td>1.093</td><td>2016-11-23T01:54:47.200</td><td>2016_11_23T01_55_29</td><td>40.0</td><td>23.834</td><td>9.0</td><td>776.0</td><td>64.0</td><td>6.0</td><td>1.409</td></tr>\n",
       "<tr><td>7</td><td>1.075</td><td>2016-11-23T02:26:40.568</td><td>2016_11_23T02_27_22</td><td>40.0</td><td>21.588</td><td>8.7</td><td>776.0</td><td>66.0</td><td>7.8</td><td>1.713</td></tr>\n",
       "<tr><td>8</td><td>1.075</td><td>2016-11-23T02:28:04.083</td><td>2016_11_23T02_28_46</td><td>40.0</td><td>21.523</td><td>8.7</td><td>776.0</td><td>66.0</td><td>10.0</td><td>2.03</td></tr>\n",
       "<tr><td>9</td><td>1.074</td><td>2016-11-23T02:29:27.596</td><td>2016_11_23T02_30_09</td><td>40.0</td><td>21.459</td><td>8.7</td><td>776.0</td><td>66.0</td><td>9.5</td><td>2.288</td></tr>\n",
       "<tr><td>10</td><td>1.131</td><td>2016-11-23T04:35:46.919</td><td>2016_11_23T04_36_28</td><td>40.0</td><td>27.84</td><td>6.8</td><td>775.0</td><td>73.0</td><td>9.4</td><td>2.213</td></tr>\n",
       "<tr><td>11</td><td>1.132</td><td>2016-11-23T04:37:10.436</td><td>2016_11_23T04_37_52</td><td>40.0</td><td>28.012</td><td>6.8</td><td>775.0</td><td>73.0</td><td>9.3</td><td>1.862</td></tr>\n",
       "<tr><td>12</td><td>1.134</td><td>2016-11-23T04:38:33.949</td><td>2016_11_23T04_39_16</td><td>40.0</td><td>28.184</td><td>6.8</td><td>775.0</td><td>73.0</td><td>6.9</td><td>2.104</td></tr>\n",
       "<tr><td>13</td><td>1.157</td><td>2016-11-23T04:54:39.120</td><td>2016_11_23T04_55_21</td><td>40.0</td><td>30.261</td><td>6.5</td><td>775.0</td><td>73.0</td><td>8.3</td><td>2.017</td></tr>\n",
       "<tr><td>14</td><td>1.16</td><td>2016-11-23T04:56:02.636</td><td>2016_11_23T04_56_44</td><td>40.0</td><td>30.447</td><td>6.5</td><td>775.0</td><td>74.0</td><td>10.1</td><td>1.968</td></tr>\n",
       "<tr><td>15</td><td>1.162</td><td>2016-11-23T04:57:26.154</td><td>2016_11_23T04_58_08</td><td>40.0</td><td>30.634</td><td>6.5</td><td>775.0</td><td>73.0</td><td>11.1</td><td>3.618</td></tr>\n",
       "<tr><td>16</td><td>1.192</td><td>2016-11-23T05:14:37.966</td><td>2016_11_23T05_15_19</td><td>40.0</td><td>33.016</td><td>6.2</td><td>775.0</td><td>74.0</td><td>10.2</td><td>2.041</td></tr>\n",
       "<tr><td>17</td><td>1.195</td><td>2016-11-23T05:16:01.474</td><td>2016_11_23T05_16_43</td><td>40.0</td><td>33.214</td><td>6.2</td><td>775.0</td><td>74.0</td><td>8.4</td><td>2.149</td></tr>\n",
       "<tr><td>18</td><td>1.197</td><td>2016-11-23T05:17:24.986</td><td>2016_11_23T05_18_07</td><td>40.0</td><td>33.412</td><td>6.3</td><td>775.0</td><td>74.0</td><td>7.4</td><td>2.422</td></tr>\n",
       "<tr><td>19</td><td>1.232</td><td>2016-11-23T05:33:35.363</td><td>2016_11_23T05_34_17</td><td>40.0</td><td>35.764</td><td>6.2</td><td>775.0</td><td>73.0</td><td>4.3</td><td>2.275</td></tr>\n",
       "<tr><td>20</td><td>1.235</td><td>2016-11-23T05:34:58.873</td><td>2016_11_23T05_35_40</td><td>40.0</td><td>35.971</td><td>6.1</td><td>775.0</td><td>73.0</td><td>5.5</td><td>2.125</td></tr>\n",
       "<tr><td>21</td><td>1.238</td><td>2016-11-23T05:36:22.383</td><td>2016_11_23T05_37_04</td><td>40.0</td><td>36.176</td><td>6.0</td><td>775.0</td><td>73.0</td><td>6.6</td><td>1.875</td></tr>\n",
       "<tr><td>22</td><td>1.279</td><td>2016-11-23T05:52:28.165</td><td>2016_11_23T05_53_10</td><td>40.0</td><td>38.595</td><td>6.1</td><td>775.0</td><td>75.0</td><td>7.4</td><td>1.982</td></tr>\n",
       "<tr><td>23</td><td>1.282</td><td>2016-11-23T05:53:51.502</td><td>2016_11_23T05_54_33</td><td>40.0</td><td>38.807</td><td>6.1</td><td>775.0</td><td>74.0</td><td>5.6</td><td>1.957</td></tr>\n",
       "<tr><td>24</td><td>1.286</td><td>2016-11-23T05:55:14.842</td><td>2016_11_23T05_55_56</td><td>40.0</td><td>39.018</td><td>6.1</td><td>775.0</td><td>74.0</td><td>6.5</td><td>1.847</td></tr>\n",
       "<tr><td>25</td><td>1.143</td><td>2016-11-24T01:04:35.118</td><td>2016_11_24T01_05_17</td><td>40.0</td><td>28.984</td><td>7.8</td><td>778.0</td><td>65.0</td><td>7.4</td><td>2.16</td></tr>\n",
       "<tr><td>26</td><td>1.141</td><td>2016-11-24T01:05:58.624</td><td>2016_11_24T01_06_40</td><td>40.0</td><td>28.806</td><td>7.8</td><td>778.0</td><td>65.0</td><td>6.3</td><td>2.175</td></tr>\n",
       "<tr><td>27</td><td>1.139</td><td>2016-11-24T01:07:22.135</td><td>2016_11_24T01_08_04</td><td>40.0</td><td>28.629</td><td>7.8</td><td>778.0</td><td>65.0</td><td>8.5</td><td>2.021</td></tr>\n",
       "<tr><td>28</td><td>1.113</td><td>2016-11-24T01:28:53.168</td><td>2016_11_24T01_29_35</td><td>40.0</td><td>26.061</td><td>8.1</td><td>778.0</td><td>60.0</td><td>8.4</td><td>2.045</td></tr>\n",
       "<tr><td>29</td><td>1.111</td><td>2016-11-24T01:30:16.685</td><td>2016_11_24T01_30_58</td><td>40.0</td><td>25.907</td><td>8.1</td><td>778.0</td><td>60.0</td><td>6.9</td><td>2.017</td></tr>\n",
       "<tr><td>30</td><td>1.11</td><td>2016-11-24T01:31:40.198</td><td>2016_11_24T01_32_22</td><td>40.0</td><td>25.754</td><td>8.2</td><td>778.0</td><td>60.0</td><td>8.2</td><td>1.954</td></tr>\n",
       "<tr><td>31</td><td>1.07</td><td>2016-11-24T02:53:32.967</td><td>2016_11_24T02_54_15</td><td>40.0</td><td>20.838</td><td>8.1</td><td>778.0</td><td>58.0</td><td>9.3</td><td>2.808</td></tr>\n",
       "<tr><td>32</td><td>1.07</td><td>2016-11-24T02:54:56.302</td><td>2016_11_24T02_55_38</td><td>40.0</td><td>20.842</td><td>8.2</td><td>778.0</td><td>58.0</td><td>8.6</td><td>2.481</td></tr>\n",
       "<tr><td>33</td><td>1.07</td><td>2016-11-24T02:56:19.650</td><td>2016_11_24T02_57_01</td><td>40.0</td><td>20.848</td><td>8.2</td><td>778.0</td><td>57.0</td><td>7.5</td><td>2.433</td></tr>\n",
       "<tr><td>34</td><td>1.073</td><td>2016-11-24T03:14:17.716</td><td>2016_11_24T03_14_59</td><td>40.0</td><td>21.223</td><td>8.2</td><td>778.0</td><td>55.0</td><td>8.6</td><td>2.335</td></tr>\n",
       "<tr><td>35</td><td>1.073</td><td>2016-11-24T03:15:41.238</td><td>2016_11_24T03_16_23</td><td>40.0</td><td>21.274</td><td>8.2</td><td>778.0</td><td>55.0</td><td>9.4</td><td>2.218</td></tr>\n",
       "<tr><td>36</td><td>1.073</td><td>2016-11-24T03:17:04.761</td><td>2016_11_24T03_17_46</td><td>40.0</td><td>21.328</td><td>8.2</td><td>778.0</td><td>55.0</td><td>9.2</td><td>2.036</td></tr>\n",
       "<tr><td>37</td><td>1.138</td><td>2016-11-24T04:37:35.973</td><td>2016_11_24T04_38_18</td><td>40.0</td><td>28.562</td><td>8.2</td><td>777.0</td><td>53.0</td><td>14.4</td><td>2.021</td></tr>\n",
       "<tr><td>38</td><td>1.14</td><td>2016-11-24T04:38:59.484</td><td>2016_11_24T04_39_41</td><td>40.0</td><td>28.738</td><td>8.3</td><td>777.0</td><td>52.0</td><td>12.6</td><td>2.128</td></tr>\n",
       "<tr><td>39</td><td>1.142</td><td>2016-11-24T04:40:22.999</td><td>2016_11_24T04_41_05</td><td>40.0</td><td>28.916</td><td>8.3</td><td>777.0</td><td>52.0</td><td>10.4</td><td>2.028</td></tr>\n",
       "<tr><td>40</td><td>1.17</td><td>2016-11-24T04:58:11.868</td><td>2016_11_24T04_58_54</td><td>40.0</td><td>31.278</td><td>8.2</td><td>777.0</td><td>52.0</td><td>10.1</td><td>1.588</td></tr>\n",
       "<tr><td>41</td><td>1.172</td><td>2016-11-24T04:59:35.381</td><td>2016_11_24T05_00_17</td><td>40.0</td><td>31.469</td><td>8.1</td><td>777.0</td><td>52.0</td><td>9.4</td><td>1.706</td></tr>\n",
       "<tr><td>42</td><td>1.174</td><td>2016-11-24T05:00:58.903</td><td>2016_11_24T05_01_41</td><td>40.0</td><td>31.661</td><td>8.1</td><td>777.0</td><td>52.0</td><td>9.8</td><td>1.706</td></tr>\n",
       "<tr><td>43</td><td>1.386</td><td>2016-11-24T06:22:40.663</td><td>2016_11_24T06_23_22</td><td>40.0</td><td>43.856</td><td>8.4</td><td>777.0</td><td>47.0</td><td>9.2</td><td>1.664</td></tr>\n",
       "<tr><td>44</td><td>1.391</td><td>2016-11-24T06:24:04.177</td><td>2016_11_24T06_24_46</td><td>40.0</td><td>44.074</td><td>8.4</td><td>777.0</td><td>46.0</td><td>8.3</td><td>1.824</td></tr>\n",
       "<tr><td>45</td><td>1.396</td><td>2016-11-24T06:25:27.695</td><td>2016_11_24T06_26_09</td><td>40.0</td><td>44.292</td><td>8.5</td><td>777.0</td><td>46.0</td><td>7.2</td><td>1.75</td></tr>\n",
       "<tr><td>46</td><td>1.476</td><td>2016-11-24T06:45:18.864</td><td>2016_11_24T06_46_00</td><td>40.0</td><td>47.419</td><td>8.2</td><td>776.0</td><td>47.0</td><td>7.0</td><td>1.71</td></tr>\n",
       "<tr><td>47</td><td>1.482</td><td>2016-11-24T06:46:42.208</td><td>2016_11_24T06_47_24</td><td>40.0</td><td>47.638</td><td>8.2</td><td>776.0</td><td>47.0</td><td>8.8</td><td>1.764</td></tr>\n",
       "<tr><td>48</td><td>1.489</td><td>2016-11-24T06:48:05.560</td><td>2016_11_24T06_48_47</td><td>40.0</td><td>47.857</td><td>8.2</td><td>776.0</td><td>47.0</td><td>8.4</td><td>2.177</td></tr>\n",
       "<tr><td>49</td><td>1.159</td><td>2016-11-25T00:50:04.720</td><td>2016_11_25T00_50_46</td><td>40.0</td><td>30.403</td><td>12.4</td><td>777.0</td><td>45.0</td><td>10.1</td><td>0.749</td></tr>\n",
       "<tr><td>50</td><td>1.157</td><td>2016-11-25T00:51:28.239</td><td>2016_11_25T00_52_10</td><td>40.0</td><td>30.217</td><td>12.4</td><td>777.0</td><td>45.0</td><td>9.4</td><td>0.757</td></tr>\n",
       "<tr><td>51</td><td>1.155</td><td>2016-11-25T00:52:51.755</td><td>2016_11_25T00_53_33</td><td>40.0</td><td>30.033</td><td>12.4</td><td>777.0</td><td>45.0</td><td>7.8</td><td>0.804</td></tr>\n",
       "<tr><td>52</td><td>1.133</td><td>2016-11-25T01:08:32.119</td><td>2016_11_25T01_09_14</td><td>40.0</td><td>28.03</td><td>12.1</td><td>777.0</td><td>46.0</td><td>7.6</td><td>0.697</td></tr>\n",
       "<tr><td>53</td><td>1.131</td><td>2016-11-25T01:09:55.639</td><td>2016_11_25T01_10_37</td><td>40.0</td><td>27.859</td><td>12.1</td><td>777.0</td><td>46.0</td><td>10.3</td><td>0.633</td></tr>\n",
       "<tr><td>54</td><td>1.129</td><td>2016-11-25T01:11:19.158</td><td>2016_11_25T01_12_01</td><td>40.0</td><td>27.69</td><td>12.1</td><td>777.0</td><td>46.0</td><td>8.2</td><td>0.613</td></tr>\n",
       "<tr><td>55</td><td>1.078</td><td>2016-11-25T02:12:01.217</td><td>2016_11_25T02_12_43</td><td>40.0</td><td>22.005</td><td>11.0</td><td>778.0</td><td>50.0</td><td>11.7</td><td>1.412</td></tr>\n",
       "<tr><td>56</td><td>1.078</td><td>2016-11-25T02:13:24.734</td><td>2016_11_25T02_14_06</td><td>40.0</td><td>21.926</td><td>11.0</td><td>778.0</td><td>50.0</td><td>8.8</td><td>1.398</td></tr>\n",
       "<tr><td>57</td><td>1.077</td><td>2016-11-25T02:14:48.244</td><td>2016_11_25T02_15_30</td><td>40.0</td><td>21.849</td><td>11.0</td><td>778.0</td><td>50.0</td><td>7.4</td><td>0.837</td></tr>\n",
       "<tr><td>58</td><td>1.072</td><td>2016-11-25T02:30:28.169</td><td>2016_11_25T02_31_10</td><td>40.0</td><td>21.185</td><td>11.0</td><td>777.0</td><td>51.0</td><td>10.2</td><td>1.025</td></tr>\n",
       "<tr><td>59</td><td>1.072</td><td>2016-11-25T02:31:51.676</td><td>2016_11_25T02_32_33</td><td>40.0</td><td>21.145</td><td>10.9</td><td>777.0</td><td>51.0</td><td>11.4</td><td>0.999</td></tr>\n",
       "<tr><td>60</td><td>1.072</td><td>2016-11-25T02:33:15.182</td><td>2016_11_25T02_33_57</td><td>40.0</td><td>21.108</td><td>10.9</td><td>777.0</td><td>51.0</td><td>11.3</td><td>1.304</td></tr>\n",
       "<tr><td>61</td><td>1.099</td><td>2016-11-25T03:57:09.168</td><td>2016_11_25T03_57_51</td><td>40.0</td><td>24.486</td><td>9.8</td><td>777.0</td><td>55.0</td><td>8.7</td><td>1.203</td></tr>\n",
       "<tr><td>62</td><td>1.1</td><td>2016-11-25T03:58:32.678</td><td>2016_11_25T03_59_14</td><td>40.0</td><td>24.622</td><td>9.8</td><td>777.0</td><td>55.0</td><td>10.4</td><td>1.334</td></tr>\n",
       "<tr><td>63</td><td>1.101</td><td>2016-11-25T03:59:56.200</td><td>2016_11_25T04_00_38</td><td>40.0</td><td>24.759</td><td>9.8</td><td>777.0</td><td>55.0</td><td>9.6</td><td>1.126</td></tr>\n",
       "<tr><td>64</td><td>1.116</td><td>2016-11-25T04:15:36.020</td><td>2016_11_25T04_16_18</td><td>40.0</td><td>26.43</td><td>9.8</td><td>777.0</td><td>57.0</td><td>11.7</td><td>1.416</td></tr>\n",
       "<tr><td>65</td><td>1.118</td><td>2016-11-25T04:16:59.537</td><td>2016_11_25T04_17_41</td><td>40.0</td><td>26.588</td><td>10.0</td><td>777.0</td><td>57.0</td><td>13.4</td><td>1.403</td></tr>\n",
       "<tr><td>66</td><td>1.12</td><td>2016-11-25T04:18:23.041</td><td>2016_11_25T04_19_05</td><td>40.0</td><td>26.748</td><td>10.0</td><td>777.0</td><td>57.0</td><td>13.2</td><td>1.275</td></tr>\n",
       "<tr><td>67</td><td>1.215</td><td>2016-11-25T05:17:55.022</td><td>2016_11_25T05_18_37</td><td>40.0</td><td>34.648</td><td>11.4</td><td>776.0</td><td>41.0</td><td>24.9</td><td>1.253</td></tr>\n",
       "<tr><td>68</td><td>1.218</td><td>2016-11-25T05:19:18.542</td><td>2016_11_25T05_20_00</td><td>40.0</td><td>34.85</td><td>11.3</td><td>776.0</td><td>41.0</td><td>22.8</td><td>1.054</td></tr>\n",
       "<tr><td>69</td><td>1.221</td><td>2016-11-25T05:20:42.059</td><td>2016_11_25T05_21_24</td><td>40.0</td><td>35.053</td><td>11.3</td><td>776.0</td><td>41.0</td><td>21.0</td><td>0.83</td></tr>\n",
       "<tr><td>70</td><td>1.258</td><td>2016-11-25T05:36:21.867</td><td>2016_11_25T05_37_04</td><td>40.0</td><td>37.374</td><td>11.0</td><td>776.0</td><td>42.0</td><td>21.3</td><td>0.96</td></tr>\n",
       "<tr><td>71</td><td>1.261</td><td>2016-11-25T05:37:45.384</td><td>2016_11_25T05_38_27</td><td>40.0</td><td>37.583</td><td>10.9</td><td>776.0</td><td>42.0</td><td>17.3</td><td>1.084</td></tr>\n",
       "<tr><td>72</td><td>1.265</td><td>2016-11-25T05:39:08.905</td><td>2016_11_25T05_39_51</td><td>40.0</td><td>37.792</td><td>10.9</td><td>776.0</td><td>43.0</td><td>15.5</td><td>1.042</td></tr>\n",
       "<tr><td>73</td><td>1.201</td><td>2016-11-26T00:22:41.175</td><td>2016_11_26T00_23_23</td><td>40.0</td><td>33.657</td><td>7.6</td><td>778.0</td><td>64.0</td><td>13.4</td><td>1.67</td></tr>\n",
       "<tr><td>74</td><td>1.198</td><td>2016-11-26T00:24:04.688</td><td>2016_11_26T00_24_46</td><td>40.0</td><td>33.458</td><td>7.6</td><td>778.0</td><td>64.0</td><td>13.8</td><td>1.908</td></tr>\n",
       "<tr><td>75</td><td>1.195</td><td>2016-11-26T00:25:28.193</td><td>2016_11_26T00_26_10</td><td>40.0</td><td>33.26</td><td>7.5</td><td>778.0</td><td>64.0</td><td>12.5</td><td>1.791</td></tr>\n",
       "<tr><td>76</td><td>1.167</td><td>2016-11-26T00:41:08.265</td><td>2016_11_26T00_41_50</td><td>40.0</td><td>31.079</td><td>7.3</td><td>778.0</td><td>65.0</td><td>7.5</td><td>2.246</td></tr>\n",
       "<tr><td>77</td><td>1.165</td><td>2016-11-26T00:42:31.784</td><td>2016_11_26T00_43_14</td><td>40.0</td><td>30.891</td><td>7.3</td><td>778.0</td><td>66.0</td><td>9.7</td><td>2.081</td></tr>\n",
       "<tr><td>78</td><td>1.163</td><td>2016-11-26T00:43:55.295</td><td>2016_11_26T00_44_37</td><td>40.0</td><td>30.703</td><td>7.3</td><td>778.0</td><td>66.0</td><td>7.2</td><td>2.125</td></tr>\n",
       "<tr><td>79</td><td>1.133</td><td>2016-11-26T01:04:20.615</td><td>2016_11_26T01_05_02</td><td>40.0</td><td>28.063</td><td>7.4</td><td>778.0</td><td>65.0</td><td>15.1</td><td>1.674</td></tr>\n",
       "<tr><td>80</td><td>1.131</td><td>2016-11-26T01:05:44.020</td><td>2016_11_26T01_06_26</td><td>40.0</td><td>27.893</td><td>7.3</td><td>778.0</td><td>65.0</td><td>11.4</td><td>1.811</td></tr>\n",
       "<tr><td>81</td><td>1.129</td><td>2016-11-26T01:07:07.401</td><td>2016_11_26T01_07_49</td><td>40.0</td><td>27.723</td><td>7.3</td><td>778.0</td><td>65.0</td><td>13.3</td><td>1.683</td></tr>\n",
       "<tr><td>82</td><td>1.112</td><td>2016-11-26T01:22:47.665</td><td>2016_11_26T01_23_29</td><td>40.0</td><td>25.91</td><td>7.3</td><td>778.0</td><td>65.0</td><td>16.8</td><td>1.163</td></tr>\n",
       "<tr><td>83</td><td>1.11</td><td>2016-11-26T01:24:11.182</td><td>2016_11_26T01_24_53</td><td>40.0</td><td>25.759</td><td>7.3</td><td>778.0</td><td>65.0</td><td>17.3</td><td>1.365</td></tr>\n",
       "<tr><td>84</td><td>1.109</td><td>2016-11-26T01:25:34.700</td><td>2016_11_26T01_26_16</td><td>40.0</td><td>25.609</td><td>7.2</td><td>778.0</td><td>65.0</td><td>18.8</td><td>1.27</td></tr>\n",
       "<tr><td>85</td><td>1.073</td><td>2016-11-26T02:25:53.821</td><td>2016_11_26T02_26_36</td><td>40.0</td><td>21.215</td><td>7.2</td><td>778.0</td><td>60.0</td><td>21.4</td><td>0.809</td></tr>\n",
       "<tr><td>86</td><td>1.072</td><td>2016-11-26T02:27:17.334</td><td>2016_11_26T02_27_59</td><td>40.0</td><td>21.173</td><td>7.3</td><td>778.0</td><td>61.0</td><td>20.8</td><td>0.798</td></tr>\n",
       "<tr><td>87</td><td>1.072</td><td>2016-11-26T02:28:40.848</td><td>2016_11_26T02_29_23</td><td>40.0</td><td>21.134</td><td>7.4</td><td>778.0</td><td>60.0</td><td>19.0</td><td>0.788</td></tr>\n",
       "<tr><td>88</td><td>1.07</td><td>2016-11-26T02:44:21.375</td><td>2016_11_26T02_45_03</td><td>40.0</td><td>20.916</td><td>7.4</td><td>778.0</td><td>57.0</td><td>23.8</td><td>0.952</td></tr>\n",
       "<tr><td>89</td><td>1.07</td><td>2016-11-26T02:45:44.891</td><td>2016_11_26T02_46_27</td><td>40.0</td><td>20.916</td><td>7.4</td><td>778.0</td><td>56.0</td><td>24.4</td><td>1.042</td></tr>\n",
       "<tr><td>90</td><td>1.07</td><td>2016-11-26T02:47:08.401</td><td>2016_11_26T02_47_50</td><td>40.0</td><td>20.92</td><td>7.5</td><td>778.0</td><td>56.0</td><td>23.2</td><td>0.865</td></tr>\n",
       "<tr><td>91</td><td>1.105</td><td>2016-11-26T04:00:15.319</td><td>2016_11_26T04_00_57</td><td>40.0</td><td>25.194</td><td>7.7</td><td>778.0</td><td>60.0</td><td>21.6</td><td>1.511</td></tr>\n",
       "<tr><td>92</td><td>1.106</td><td>2016-11-26T04:01:38.842</td><td>2016_11_26T04_02_21</td><td>40.0</td><td>25.339</td><td>7.6</td><td>778.0</td><td>60.0</td><td>26.4</td><td>1.511</td></tr>\n",
       "<tr><td>93</td><td>1.108</td><td>2016-11-26T04:03:02.353</td><td>2016_11_26T04_03_44</td><td>40.0</td><td>25.486</td><td>7.5</td><td>778.0</td><td>60.0</td><td>23.6</td><td>1.511</td></tr>\n",
       "<tr><td>94</td><td>1.264</td><td>2016-11-26T05:35:04.921</td><td>2016_11_26T05_35_47</td><td>40.0</td><td>37.772</td><td>7.0</td><td>778.0</td><td>56.0</td><td>12.4</td><td>1.285</td></tr>\n",
       "<tr><td>95</td><td>1.268</td><td>2016-11-26T05:36:28.437</td><td>2016_11_26T05_37_10</td><td>40.0</td><td>37.982</td><td>7.3</td><td>778.0</td><td>55.0</td><td>14.9</td><td>1.226</td></tr>\n",
       "<tr><td>96</td><td>1.272</td><td>2016-11-26T05:37:51.784</td><td>2016_11_26T05_38_34</td><td>40.0</td><td>38.192</td><td>7.5</td><td>778.0</td><td>54.0</td><td>15.4</td><td>1.866</td></tr>\n",
       "<tr><td>97</td><td>1.316</td><td>2016-11-26T05:53:32.116</td><td>2016_11_26T05_54_14</td><td>40.0</td><td>40.581</td><td>6.7</td><td>778.0</td><td>59.0</td><td>9.2</td><td>0.903</td></tr>\n",
       "<tr><td>98</td><td>1.32</td><td>2016-11-26T05:54:55.623</td><td>2016_11_26T05_55_37</td><td>40.0</td><td>40.795</td><td>6.7</td><td>778.0</td><td>59.0</td><td>9.4</td><td>0.824</td></tr>\n",
       "<tr><td>99</td><td>1.324</td><td>2016-11-26T05:56:19.141</td><td>2016_11_26T05_57_01</td><td>40.0</td><td>41.009</td><td>6.7</td><td>778.0</td><td>60.0</td><td>9.6</td><td>0.801</td></tr>\n",
       "<tr><td>100</td><td>1.377</td><td>2016-11-26T06:12:17.520</td><td>2016_11_26T06_12_59</td><td>40.0</td><td>43.484</td><td>6.8</td><td>777.0</td><td>54.0</td><td>7.4</td><td>0.831</td></tr>\n",
       "<tr><td>101</td><td>1.382</td><td>2016-11-26T06:13:41.032</td><td>2016_11_26T06_14_23</td><td>40.0</td><td>43.702</td><td>6.7</td><td>777.0</td><td>52.0</td><td>3.8</td><td>0.84</td></tr>\n",
       "<tr><td>102</td><td>1.387</td><td>2016-11-26T06:15:04.544</td><td>2016_11_26T06_15_46</td><td>40.0</td><td>43.918</td><td>6.7</td><td>777.0</td><td>51.0</td><td>6.8</td><td>0.967</td></tr>\n",
       "<tr><td>103</td><td>1.448</td><td>2016-11-26T06:30:44.869</td><td>2016_11_26T06_31_27</td><td>40.0</td><td>46.371</td><td>7.1</td><td>777.0</td><td>36.0</td><td>6.2</td><td>0.92</td></tr>\n",
       "<tr><td>104</td><td>1.454</td><td>2016-11-26T06:32:08.234</td><td>2016_11_26T06_32_50</td><td>40.0</td><td>46.59</td><td>7.2</td><td>777.0</td><td>35.0</td><td>5.5</td><td>0.888</td></tr>\n",
       "<tr><td>105</td><td>1.459</td><td>2016-11-26T06:33:31.616</td><td>2016_11_26T06_34_13</td><td>40.0</td><td>46.808</td><td>7.1</td><td>777.0</td><td>35.0</td><td>8.9</td><td>0.838</td></tr>\n",
       "<tr><td>106</td><td>1.531</td><td>2016-11-26T06:49:17.821</td><td>2016_11_26T06_50_00</td><td>40.0</td><td>49.287</td><td>7.1</td><td>777.0</td><td>32.0</td><td>9.6</td><td>1.136</td></tr>\n",
       "<tr><td>107</td><td>1.538</td><td>2016-11-26T06:50:41.337</td><td>2016_11_26T06_51_23</td><td>40.0</td><td>49.506</td><td>7.2</td><td>777.0</td><td>32.0</td><td>6.6</td><td>0.794</td></tr>\n",
       "<tr><td>108</td><td>1.545</td><td>2016-11-26T06:52:04.851</td><td>2016_11_26T06_52_47</td><td>40.0</td><td>49.725</td><td>7.3</td><td>777.0</td><td>32.0</td><td>8.6</td><td>0.791</td></tr>\n",
       "<tr><td>109</td><td>1.629</td><td>2016-11-26T07:07:44.973</td><td>2016_11_26T07_08_27</td><td>40.0</td><td>52.19</td><td>7.6</td><td>777.0</td><td>30.0</td><td>8.9</td><td>0.778</td></tr>\n",
       "<tr><td>110</td><td>1.637</td><td>2016-11-26T07:09:08.483</td><td>2016_11_26T07_09_50</td><td>40.0</td><td>52.409</td><td>7.8</td><td>777.0</td><td>28.0</td><td>6.7</td><td>0.872</td></tr>\n",
       "<tr><td>111</td><td>1.645</td><td>2016-11-26T07:10:32.003</td><td>2016_11_26T07_11_14</td><td>40.0</td><td>52.627</td><td>7.6</td><td>777.0</td><td>26.0</td><td>6.4</td><td>0.722</td></tr>\n",
       "<tr><td>112</td><td>1.754</td><td>2016-11-26T07:27:41.918</td><td>2016_11_26T07_28_24</td><td>40.0</td><td>55.318</td><td>8.1</td><td>777.0</td><td>24.0</td><td>16.6</td><td>0.793</td></tr>\n",
       "<tr><td>113</td><td>1.764</td><td>2016-11-26T07:29:05.433</td><td>2016_11_26T07_29_47</td><td>40.0</td><td>55.535</td><td>8.1</td><td>777.0</td><td>24.0</td><td>14.3</td><td>0.793</td></tr>\n",
       "<tr><td>114</td><td>1.773</td><td>2016-11-26T07:30:28.944</td><td>2016_11_26T07_31_11</td><td>40.0</td><td>55.752</td><td>8.3</td><td>777.0</td><td>23.0</td><td>15.2</td><td>0.793</td></tr>\n",
       "<tr><td>115</td><td>1.892</td><td>2016-11-26T07:46:07.323</td><td>2016_11_26T07_46_49</td><td>40.0</td><td>58.185</td><td>8.3</td><td>777.0</td><td>23.0</td><td>19.5</td><td>0.793</td></tr>\n",
       "<tr><td>116</td><td>1.904</td><td>2016-11-26T07:47:30.677</td><td>2016_11_26T07_48_13</td><td>40.0</td><td>58.401</td><td>8.2</td><td>777.0</td><td>21.0</td><td>17.3</td><td>0.793</td></tr>\n",
       "<tr><td>117</td><td>1.915</td><td>2016-11-26T07:48:54.065</td><td>2016_11_26T07_49_36</td><td>40.0</td><td>58.616</td><td>7.9</td><td>777.0</td><td>22.0</td><td>17.3</td><td>0.793</td></tr>\n",
       "</table><style>table.dataTable {clear: both; width: auto !important; margin: 0 !important;}\n",
       ".dataTables_info, .dataTables_length, .dataTables_filter, .dataTables_paginate{\n",
       "display: inline-block; margin-right: 1em; }\n",
       ".paginate_button { margin-right: 5px; }\n",
       "</style>\n",
       "<script>\n",
       "require.config({paths: {\n",
       "    datatables: 'https://cdn.datatables.net/1.10.9/js/jquery.dataTables.min'\n",
       "}});\n",
       "require([\"datatables\"], function(){\n",
       "    console.log(\"$('#table4486922832-732992').dataTable()\");\n",
       "    $('#table4486922832-732992').dataTable({\n",
       "        \"order\": [],\n",
       "        \"iDisplayLength\": 50,\n",
       "        \"aLengthMenu\": [[10, 25, 50, 100, 500, 1000, -1], [10, 25, 50, 100, 500, 1000, 'All']],\n",
       "        \"pagingType\": \"full_numbers\"\n",
       "    });\n",
       "});\n",
       "</script>\n"
      ],
      "text/plain": [
       "<IPython.core.display.HTML object>"
      ]
     },
     "execution_count": 36,
     "metadata": {},
     "output_type": "execute_result"
    }
   ],
   "source": [
    "thetable.show_in_notebook()"
   ]
  },
  {
   "cell_type": "markdown",
   "metadata": {},
   "source": [
    "## Read the logfile into a Table\n",
    "---------------------------------------"
   ]
  },
  {
   "cell_type": "code",
   "execution_count": 37,
   "metadata": {
    "collapsed": true
   },
   "outputs": [],
   "source": [
    "t = Table.read(logfile)"
   ]
  },
  {
   "cell_type": "code",
   "execution_count": 38,
   "metadata": {
    "collapsed": false
   },
   "outputs": [
    {
     "data": {
      "text/html": [
       "&lt;Table length=117&gt;\n",
       "<table id=\"table4487282192\">\n",
       "<thead><tr><th>number</th><th>airmass</th><th>date</th><th>filename</th><th>exposure</th><th>zenith</th><th>temperature</th><th>pressure</th><th>humidity</th><th>windspeed</th><th>seeing</th></tr></thead>\n",
       "<thead><tr><th>int32</th><th>float32</th><th>str50</th><th>str30</th><th>float32</th><th>float32</th><th>float32</th><th>float32</th><th>float32</th><th>float32</th><th>float32</th></tr></thead>\n",
       "<tr><td>1</td><td>1.101</td><td>2016-11-23T01:45:29.665</td><td>2016_11_23T01_45_51</td><td>20.0</td><td>24.718</td><td>9.0</td><td>776.0</td><td>64.0</td><td>5.4</td><td>1.522</td></tr>\n",
       "<tr><td>2</td><td>1.1</td><td>2016-11-23T01:46:33.179</td><td>2016_11_23T01_46_55</td><td>20.0</td><td>24.613</td><td>9.0</td><td>776.0</td><td>64.0</td><td>6.6</td><td>1.371</td></tr>\n",
       "<tr><td>3</td><td>1.099</td><td>2016-11-23T01:47:36.699</td><td>2016_11_23T01_47_58</td><td>20.0</td><td>24.509</td><td>9.0</td><td>776.0</td><td>64.0</td><td>7.8</td><td>1.399</td></tr>\n",
       "<tr><td>4</td><td>1.095</td><td>2016-11-23T01:52:00.166</td><td>2016_11_23T01_52_42</td><td>40.0</td><td>24.09</td><td>8.9</td><td>776.0</td><td>64.0</td><td>5.0</td><td>1.357</td></tr>\n",
       "<tr><td>5</td><td>1.094</td><td>2016-11-23T01:53:23.679</td><td>2016_11_23T01_54_05</td><td>40.0</td><td>23.961</td><td>8.9</td><td>776.0</td><td>64.0</td><td>4.5</td><td>1.304</td></tr>\n",
       "<tr><td>6</td><td>1.093</td><td>2016-11-23T01:54:47.200</td><td>2016_11_23T01_55_29</td><td>40.0</td><td>23.834</td><td>9.0</td><td>776.0</td><td>64.0</td><td>6.0</td><td>1.409</td></tr>\n",
       "<tr><td>7</td><td>1.075</td><td>2016-11-23T02:26:40.568</td><td>2016_11_23T02_27_22</td><td>40.0</td><td>21.588</td><td>8.7</td><td>776.0</td><td>66.0</td><td>7.8</td><td>1.713</td></tr>\n",
       "<tr><td>8</td><td>1.075</td><td>2016-11-23T02:28:04.083</td><td>2016_11_23T02_28_46</td><td>40.0</td><td>21.523</td><td>8.7</td><td>776.0</td><td>66.0</td><td>10.0</td><td>2.03</td></tr>\n",
       "<tr><td>9</td><td>1.074</td><td>2016-11-23T02:29:27.596</td><td>2016_11_23T02_30_09</td><td>40.0</td><td>21.459</td><td>8.7</td><td>776.0</td><td>66.0</td><td>9.5</td><td>2.288</td></tr>\n",
       "<tr><td>10</td><td>1.131</td><td>2016-11-23T04:35:46.919</td><td>2016_11_23T04_36_28</td><td>40.0</td><td>27.84</td><td>6.8</td><td>775.0</td><td>73.0</td><td>9.4</td><td>2.213</td></tr>\n",
       "<tr><td>...</td><td>...</td><td>...</td><td>...</td><td>...</td><td>...</td><td>...</td><td>...</td><td>...</td><td>...</td><td>...</td></tr>\n",
       "<tr><td>108</td><td>1.545</td><td>2016-11-26T06:52:04.851</td><td>2016_11_26T06_52_47</td><td>40.0</td><td>49.725</td><td>7.3</td><td>777.0</td><td>32.0</td><td>8.6</td><td>0.791</td></tr>\n",
       "<tr><td>109</td><td>1.629</td><td>2016-11-26T07:07:44.973</td><td>2016_11_26T07_08_27</td><td>40.0</td><td>52.19</td><td>7.6</td><td>777.0</td><td>30.0</td><td>8.9</td><td>0.778</td></tr>\n",
       "<tr><td>110</td><td>1.637</td><td>2016-11-26T07:09:08.483</td><td>2016_11_26T07_09_50</td><td>40.0</td><td>52.409</td><td>7.8</td><td>777.0</td><td>28.0</td><td>6.7</td><td>0.872</td></tr>\n",
       "<tr><td>111</td><td>1.645</td><td>2016-11-26T07:10:32.003</td><td>2016_11_26T07_11_14</td><td>40.0</td><td>52.627</td><td>7.6</td><td>777.0</td><td>26.0</td><td>6.4</td><td>0.722</td></tr>\n",
       "<tr><td>112</td><td>1.754</td><td>2016-11-26T07:27:41.918</td><td>2016_11_26T07_28_24</td><td>40.0</td><td>55.318</td><td>8.1</td><td>777.0</td><td>24.0</td><td>16.6</td><td>0.793</td></tr>\n",
       "<tr><td>113</td><td>1.764</td><td>2016-11-26T07:29:05.433</td><td>2016_11_26T07_29_47</td><td>40.0</td><td>55.535</td><td>8.1</td><td>777.0</td><td>24.0</td><td>14.3</td><td>0.793</td></tr>\n",
       "<tr><td>114</td><td>1.773</td><td>2016-11-26T07:30:28.944</td><td>2016_11_26T07_31_11</td><td>40.0</td><td>55.752</td><td>8.3</td><td>777.0</td><td>23.0</td><td>15.2</td><td>0.793</td></tr>\n",
       "<tr><td>115</td><td>1.892</td><td>2016-11-26T07:46:07.323</td><td>2016_11_26T07_46_49</td><td>40.0</td><td>58.185</td><td>8.3</td><td>777.0</td><td>23.0</td><td>19.5</td><td>0.793</td></tr>\n",
       "<tr><td>116</td><td>1.904</td><td>2016-11-26T07:47:30.677</td><td>2016_11_26T07_48_13</td><td>40.0</td><td>58.401</td><td>8.2</td><td>777.0</td><td>21.0</td><td>17.3</td><td>0.793</td></tr>\n",
       "<tr><td>117</td><td>1.915</td><td>2016-11-26T07:48:54.065</td><td>2016_11_26T07_49_36</td><td>40.0</td><td>58.616</td><td>7.9</td><td>777.0</td><td>22.0</td><td>17.3</td><td>0.793</td></tr>\n",
       "</table>"
      ],
      "text/plain": [
       "<Table length=117>\n",
       "number airmass           date          ... humidity windspeed  seeing\n",
       "int32  float32          str50          ... float32   float32  float32\n",
       "------ ------- ----------------------- ... -------- --------- -------\n",
       "     1   1.101 2016-11-23T01:45:29.665 ...     64.0       5.4   1.522\n",
       "     2     1.1 2016-11-23T01:46:33.179 ...     64.0       6.6   1.371\n",
       "     3   1.099 2016-11-23T01:47:36.699 ...     64.0       7.8   1.399\n",
       "     4   1.095 2016-11-23T01:52:00.166 ...     64.0       5.0   1.357\n",
       "     5   1.094 2016-11-23T01:53:23.679 ...     64.0       4.5   1.304\n",
       "     6   1.093 2016-11-23T01:54:47.200 ...     64.0       6.0   1.409\n",
       "     7   1.075 2016-11-23T02:26:40.568 ...     66.0       7.8   1.713\n",
       "     8   1.075 2016-11-23T02:28:04.083 ...     66.0      10.0    2.03\n",
       "     9   1.074 2016-11-23T02:29:27.596 ...     66.0       9.5   2.288\n",
       "    10   1.131 2016-11-23T04:35:46.919 ...     73.0       9.4   2.213\n",
       "   ...     ...                     ... ...      ...       ...     ...\n",
       "   108   1.545 2016-11-26T06:52:04.851 ...     32.0       8.6   0.791\n",
       "   109   1.629 2016-11-26T07:07:44.973 ...     30.0       8.9   0.778\n",
       "   110   1.637 2016-11-26T07:09:08.483 ...     28.0       6.7   0.872\n",
       "   111   1.645 2016-11-26T07:10:32.003 ...     26.0       6.4   0.722\n",
       "   112   1.754 2016-11-26T07:27:41.918 ...     24.0      16.6   0.793\n",
       "   113   1.764 2016-11-26T07:29:05.433 ...     24.0      14.3   0.793\n",
       "   114   1.773 2016-11-26T07:30:28.944 ...     23.0      15.2   0.793\n",
       "   115   1.892 2016-11-26T07:46:07.323 ...     23.0      19.5   0.793\n",
       "   116   1.904 2016-11-26T07:47:30.677 ...     21.0      17.3   0.793\n",
       "   117   1.915 2016-11-26T07:48:54.065 ...     22.0      17.3   0.793"
      ]
     },
     "execution_count": 38,
     "metadata": {},
     "output_type": "execute_result"
    }
   ],
   "source": [
    "t"
   ]
  },
  {
   "cell_type": "markdown",
   "metadata": {},
   "source": [
    "## Convert into pandas to plot\n",
    "---------------------------------------"
   ]
  },
  {
   "cell_type": "code",
   "execution_count": 39,
   "metadata": {
    "collapsed": true
   },
   "outputs": [],
   "source": [
    "df = t.to_pandas()"
   ]
  },
  {
   "cell_type": "code",
   "execution_count": 40,
   "metadata": {
    "collapsed": false
   },
   "outputs": [
    {
     "data": {
      "text/plain": [
       "<matplotlib.axes._subplots.AxesSubplot at 0x10cc771d0>"
      ]
     },
     "execution_count": 40,
     "metadata": {},
     "output_type": "execute_result"
    },
    {
     "data": {
      "image/png": "[encoded data removed]",
      "text/plain": [
       "<matplotlib.figure.Figure at 0x10cc0db90>"
      ]
     },
     "metadata": {},
     "output_type": "display_data"
    }
   ],
   "source": [
    "df.plot('date','airmass',figsize=(20,6),rot=45,grid=True,title='airmass vs date',color='b',linewidth=2)\n"
   ]
  },
  {
   "cell_type": "code",
   "execution_count": null,
   "metadata": {
    "collapsed": true
   },
   "outputs": [],
   "source": []
  }
 ],
 "metadata": {
  "kernelspec": {
   "display_name": "Python 2",
   "language": "python",
   "name": "python2"
  },
  "language_info": {
   "codemirror_mode": {
    "name": "ipython",
    "version": 2
   },
   "file_extension": ".py",
   "mimetype": "text/x-python",
   "name": "python",
   "nbconvert_exporter": "python",
   "pygments_lexer": "ipython2",
   "version": "2.7.12"
  }
 },
 "nbformat": 4,
 "nbformat_minor": 0
}
